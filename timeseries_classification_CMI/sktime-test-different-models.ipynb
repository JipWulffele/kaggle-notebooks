{
 "cells": [
  {
   "cell_type": "markdown",
   "id": "2027ae67",
   "metadata": {
    "papermill": {
     "duration": 0.00649,
     "end_time": "2025-07-10T12:35:13.852384",
     "exception": false,
     "start_time": "2025-07-10T12:35:13.845894",
     "status": "completed"
    },
    "tags": []
   },
   "source": [
    "# 1. Import everything!"
   ]
  },
  {
   "cell_type": "code",
   "execution_count": 1,
   "id": "69395b27",
   "metadata": {
    "execution": {
     "iopub.execute_input": "2025-07-10T12:35:13.865736Z",
     "iopub.status.busy": "2025-07-10T12:35:13.864782Z",
     "iopub.status.idle": "2025-07-10T12:35:13.872379Z",
     "shell.execute_reply": "2025-07-10T12:35:13.871563Z"
    },
    "papermill": {
     "duration": 0.01597,
     "end_time": "2025-07-10T12:35:13.874097",
     "exception": false,
     "start_time": "2025-07-10T12:35:13.858127",
     "status": "completed"
    },
    "tags": []
   },
   "outputs": [],
   "source": [
    "# Define hyper parameters\n",
    "\n",
    "CV = 5 # cv for gridserach\n",
    "\n",
    "# Test mode parameters\n",
    "TEST_MODE = False\n",
    "N = 100 # Number of instances per class"
   ]
  },
  {
   "cell_type": "markdown",
   "id": "9eed42da",
   "metadata": {
    "papermill": {
     "duration": 0.005169,
     "end_time": "2025-07-10T12:35:13.885113",
     "exception": false,
     "start_time": "2025-07-10T12:35:13.879944",
     "status": "completed"
    },
    "tags": []
   },
   "source": [
    "## 1.1 Liberaries"
   ]
  },
  {
   "cell_type": "code",
   "execution_count": 2,
   "id": "f23e2a97",
   "metadata": {
    "execution": {
     "iopub.execute_input": "2025-07-10T12:35:13.898171Z",
     "iopub.status.busy": "2025-07-10T12:35:13.897261Z",
     "iopub.status.idle": "2025-07-10T12:35:18.953652Z",
     "shell.execute_reply": "2025-07-10T12:35:18.952625Z"
    },
    "papermill": {
     "duration": 5.064691,
     "end_time": "2025-07-10T12:35:18.955378",
     "exception": false,
     "start_time": "2025-07-10T12:35:13.890687",
     "status": "completed"
    },
    "tags": []
   },
   "outputs": [],
   "source": [
    "import os\n",
    "\n",
    "import pandas as pd\n",
    "pd.options.display.max_columns = 100\n",
    "\n",
    "import numpy as np\n",
    "import matplotlib.pyplot as plt\n",
    "import seaborn as sns\n",
    "import polars as pl\n",
    "\n",
    "import warnings\n",
    "warnings.simplefilter(action='ignore', category=FutureWarning)\n",
    "warnings.filterwarnings(\"ignore\", category=RuntimeWarning)\n",
    "\n",
    "import sys\n",
    "sys.path.append('../Data/cmi-detect-behavior-with-sensor-data')\n",
    "\n",
    "import kaggle_evaluation.cmi_inference_server"
   ]
  },
  {
   "cell_type": "code",
   "execution_count": 3,
   "id": "21ebd5b3",
   "metadata": {
    "execution": {
     "iopub.execute_input": "2025-07-10T12:35:18.969549Z",
     "iopub.status.busy": "2025-07-10T12:35:18.968531Z",
     "iopub.status.idle": "2025-07-10T12:35:40.312117Z",
     "shell.execute_reply": "2025-07-10T12:35:40.310900Z"
    },
    "papermill": {
     "duration": 21.353278,
     "end_time": "2025-07-10T12:35:40.314755",
     "exception": false,
     "start_time": "2025-07-10T12:35:18.961477",
     "status": "completed"
    },
    "tags": []
   },
   "outputs": [
    {
     "name": "stdout",
     "output_type": "stream",
     "text": [
      "Processing /kaggle/input/pip-install-dependencies-cmi/scikit_base-0.12.3-py3-none-any.whl\r\n",
      "Installing collected packages: scikit-base\r\n",
      "Successfully installed scikit-base-0.12.3\r\n",
      "Processing /kaggle/input/pip-install-dependencies-cmi/scikit_learn-1.7.0-cp311-cp311-manylinux_2_17_x86_64.manylinux2014_x86_64.whl\r\n",
      "Requirement already satisfied: numpy>=1.22.0 in /usr/local/lib/python3.11/dist-packages (from scikit-learn==1.7.0) (1.26.4)\r\n",
      "Requirement already satisfied: scipy>=1.8.0 in /usr/local/lib/python3.11/dist-packages (from scikit-learn==1.7.0) (1.15.2)\r\n",
      "Requirement already satisfied: joblib>=1.2.0 in /usr/local/lib/python3.11/dist-packages (from scikit-learn==1.7.0) (1.5.0)\r\n",
      "Requirement already satisfied: threadpoolctl>=3.1.0 in /usr/local/lib/python3.11/dist-packages (from scikit-learn==1.7.0) (3.6.0)\r\n",
      "Requirement already satisfied: mkl_fft in /usr/local/lib/python3.11/dist-packages (from numpy>=1.22.0->scikit-learn==1.7.0) (1.3.8)\r\n",
      "Requirement already satisfied: mkl_random in /usr/local/lib/python3.11/dist-packages (from numpy>=1.22.0->scikit-learn==1.7.0) (1.2.4)\r\n",
      "Requirement already satisfied: mkl_umath in /usr/local/lib/python3.11/dist-packages (from numpy>=1.22.0->scikit-learn==1.7.0) (0.1.1)\r\n",
      "Requirement already satisfied: mkl in /usr/local/lib/python3.11/dist-packages (from numpy>=1.22.0->scikit-learn==1.7.0) (2025.1.0)\r\n",
      "Requirement already satisfied: tbb4py in /usr/local/lib/python3.11/dist-packages (from numpy>=1.22.0->scikit-learn==1.7.0) (2022.1.0)\r\n",
      "Requirement already satisfied: mkl-service in /usr/local/lib/python3.11/dist-packages (from numpy>=1.22.0->scikit-learn==1.7.0) (2.4.1)\r\n",
      "Requirement already satisfied: intel-openmp<2026,>=2024 in /usr/local/lib/python3.11/dist-packages (from mkl->numpy>=1.22.0->scikit-learn==1.7.0) (2024.2.0)\r\n",
      "Requirement already satisfied: tbb==2022.* in /usr/local/lib/python3.11/dist-packages (from mkl->numpy>=1.22.0->scikit-learn==1.7.0) (2022.1.0)\r\n",
      "Requirement already satisfied: tcmlib==1.* in /usr/local/lib/python3.11/dist-packages (from tbb==2022.*->mkl->numpy>=1.22.0->scikit-learn==1.7.0) (1.3.0)\r\n",
      "Requirement already satisfied: intel-cmplr-lib-rt in /usr/local/lib/python3.11/dist-packages (from mkl_umath->numpy>=1.22.0->scikit-learn==1.7.0) (2024.2.0)\r\n",
      "Requirement already satisfied: intel-cmplr-lib-ur==2024.2.0 in /usr/local/lib/python3.11/dist-packages (from intel-openmp<2026,>=2024->mkl->numpy>=1.22.0->scikit-learn==1.7.0) (2024.2.0)\r\n",
      "Installing collected packages: scikit-learn\r\n",
      "  Attempting uninstall: scikit-learn\r\n",
      "    Found existing installation: scikit-learn 1.2.2\r\n",
      "    Uninstalling scikit-learn-1.2.2:\r\n",
      "      Successfully uninstalled scikit-learn-1.2.2\r\n",
      "\u001b[31mERROR: pip's dependency resolver does not currently take into account all the packages that are installed. This behaviour is the source of the following dependency conflicts.\r\n",
      "category-encoders 2.7.0 requires scikit-learn<1.6.0,>=1.0.0, but you have scikit-learn 1.7.0 which is incompatible.\r\n",
      "cesium 0.12.4 requires numpy<3.0,>=2.0, but you have numpy 1.26.4 which is incompatible.\r\n",
      "sklearn-compat 0.1.3 requires scikit-learn<1.7,>=1.2, but you have scikit-learn 1.7.0 which is incompatible.\u001b[0m\u001b[31m\r\n",
      "\u001b[0mSuccessfully installed scikit-learn-1.7.0\r\n",
      "Processing /kaggle/input/pip-install-dependencies-cmi/sktime-0.38.1-py3-none-any.whl\r\n",
      "Requirement already satisfied: joblib<1.6,>=1.2.0 in /usr/local/lib/python3.11/dist-packages (from sktime==0.38.1) (1.5.0)\r\n",
      "Requirement already satisfied: numpy<2.4,>=1.21 in /usr/local/lib/python3.11/dist-packages (from sktime==0.38.1) (1.26.4)\r\n",
      "Requirement already satisfied: packaging in /usr/local/lib/python3.11/dist-packages (from sktime==0.38.1) (25.0)\r\n",
      "Requirement already satisfied: pandas<2.4.0,>=1.1 in /usr/local/lib/python3.11/dist-packages (from sktime==0.38.1) (2.2.3)\r\n",
      "Requirement already satisfied: scikit-base<0.13.0,>=0.6.1 in /usr/local/lib/python3.11/dist-packages (from sktime==0.38.1) (0.12.3)\r\n",
      "Requirement already satisfied: scikit-learn<1.8.0,>=0.24 in /usr/local/lib/python3.11/dist-packages (from sktime==0.38.1) (1.7.0)\r\n",
      "Requirement already satisfied: scipy<2.0.0,>=1.2 in /usr/local/lib/python3.11/dist-packages (from sktime==0.38.1) (1.15.2)\r\n",
      "Requirement already satisfied: mkl_fft in /usr/local/lib/python3.11/dist-packages (from numpy<2.4,>=1.21->sktime==0.38.1) (1.3.8)\r\n",
      "Requirement already satisfied: mkl_random in /usr/local/lib/python3.11/dist-packages (from numpy<2.4,>=1.21->sktime==0.38.1) (1.2.4)\r\n",
      "Requirement already satisfied: mkl_umath in /usr/local/lib/python3.11/dist-packages (from numpy<2.4,>=1.21->sktime==0.38.1) (0.1.1)\r\n",
      "Requirement already satisfied: mkl in /usr/local/lib/python3.11/dist-packages (from numpy<2.4,>=1.21->sktime==0.38.1) (2025.1.0)\r\n",
      "Requirement already satisfied: tbb4py in /usr/local/lib/python3.11/dist-packages (from numpy<2.4,>=1.21->sktime==0.38.1) (2022.1.0)\r\n",
      "Requirement already satisfied: mkl-service in /usr/local/lib/python3.11/dist-packages (from numpy<2.4,>=1.21->sktime==0.38.1) (2.4.1)\r\n",
      "Requirement already satisfied: python-dateutil>=2.8.2 in /usr/local/lib/python3.11/dist-packages (from pandas<2.4.0,>=1.1->sktime==0.38.1) (2.9.0.post0)\r\n",
      "Requirement already satisfied: pytz>=2020.1 in /usr/local/lib/python3.11/dist-packages (from pandas<2.4.0,>=1.1->sktime==0.38.1) (2025.2)\r\n",
      "Requirement already satisfied: tzdata>=2022.7 in /usr/local/lib/python3.11/dist-packages (from pandas<2.4.0,>=1.1->sktime==0.38.1) (2025.2)\r\n",
      "Requirement already satisfied: threadpoolctl>=3.1.0 in /usr/local/lib/python3.11/dist-packages (from scikit-learn<1.8.0,>=0.24->sktime==0.38.1) (3.6.0)\r\n",
      "Requirement already satisfied: six>=1.5 in /usr/local/lib/python3.11/dist-packages (from python-dateutil>=2.8.2->pandas<2.4.0,>=1.1->sktime==0.38.1) (1.17.0)\r\n",
      "Requirement already satisfied: intel-openmp<2026,>=2024 in /usr/local/lib/python3.11/dist-packages (from mkl->numpy<2.4,>=1.21->sktime==0.38.1) (2024.2.0)\r\n",
      "Requirement already satisfied: tbb==2022.* in /usr/local/lib/python3.11/dist-packages (from mkl->numpy<2.4,>=1.21->sktime==0.38.1) (2022.1.0)\r\n",
      "Requirement already satisfied: tcmlib==1.* in /usr/local/lib/python3.11/dist-packages (from tbb==2022.*->mkl->numpy<2.4,>=1.21->sktime==0.38.1) (1.3.0)\r\n",
      "Requirement already satisfied: intel-cmplr-lib-rt in /usr/local/lib/python3.11/dist-packages (from mkl_umath->numpy<2.4,>=1.21->sktime==0.38.1) (2024.2.0)\r\n",
      "Requirement already satisfied: intel-cmplr-lib-ur==2024.2.0 in /usr/local/lib/python3.11/dist-packages (from intel-openmp<2026,>=2024->mkl->numpy<2.4,>=1.21->sktime==0.38.1) (2024.2.0)\r\n",
      "Installing collected packages: sktime\r\n",
      "Successfully installed sktime-0.38.1\r\n"
     ]
    }
   ],
   "source": [
    "!pip install /kaggle/input/pip-install-dependencies-cmi/scikit_base-0.12.3-py3-none-any.whl\n",
    "!pip install /kaggle/input/pip-install-dependencies-cmi/scikit_learn-1.7.0-cp311-cp311-manylinux_2_17_x86_64.manylinux2014_x86_64.whl\n",
    "!pip install /kaggle/input/pip-install-dependencies-cmi/sktime-0.38.1-py3-none-any.whl"
   ]
  },
  {
   "cell_type": "markdown",
   "id": "83cdc2ee",
   "metadata": {
    "papermill": {
     "duration": 0.006447,
     "end_time": "2025-07-10T12:35:40.328633",
     "exception": false,
     "start_time": "2025-07-10T12:35:40.322186",
     "status": "completed"
    },
    "tags": []
   },
   "source": [
    "## 1.2 Custom transformers"
   ]
  },
  {
   "cell_type": "code",
   "execution_count": 4,
   "id": "79ed3f7b",
   "metadata": {
    "execution": {
     "iopub.execute_input": "2025-07-10T12:35:40.343280Z",
     "iopub.status.busy": "2025-07-10T12:35:40.342912Z",
     "iopub.status.idle": "2025-07-10T12:35:54.467476Z",
     "shell.execute_reply": "2025-07-10T12:35:54.466168Z"
    },
    "papermill": {
     "duration": 14.135051,
     "end_time": "2025-07-10T12:35:54.470245",
     "exception": false,
     "start_time": "2025-07-10T12:35:40.335194",
     "status": "completed"
    },
    "tags": []
   },
   "outputs": [
    {
     "name": "stdout",
     "output_type": "stream",
     "text": [
      "Processing /kaggle/input/pip-install-dependencies-cmi/scikit_base-0.12.3-py3-none-any.whl\r\n",
      "scikit-base is already installed with the same version as the provided wheel. Use --force-reinstall to force an installation of the wheel.\r\n",
      "Processing /kaggle/input/pip-install-dependencies-cmi/scikit_learn-1.7.0-cp311-cp311-manylinux_2_17_x86_64.manylinux2014_x86_64.whl\r\n",
      "Requirement already satisfied: numpy>=1.22.0 in /usr/local/lib/python3.11/dist-packages (from scikit-learn==1.7.0) (1.26.4)\r\n",
      "Requirement already satisfied: scipy>=1.8.0 in /usr/local/lib/python3.11/dist-packages (from scikit-learn==1.7.0) (1.15.2)\r\n",
      "Requirement already satisfied: joblib>=1.2.0 in /usr/local/lib/python3.11/dist-packages (from scikit-learn==1.7.0) (1.5.0)\r\n",
      "Requirement already satisfied: threadpoolctl>=3.1.0 in /usr/local/lib/python3.11/dist-packages (from scikit-learn==1.7.0) (3.6.0)\r\n",
      "Requirement already satisfied: mkl_fft in /usr/local/lib/python3.11/dist-packages (from numpy>=1.22.0->scikit-learn==1.7.0) (1.3.8)\r\n",
      "Requirement already satisfied: mkl_random in /usr/local/lib/python3.11/dist-packages (from numpy>=1.22.0->scikit-learn==1.7.0) (1.2.4)\r\n",
      "Requirement already satisfied: mkl_umath in /usr/local/lib/python3.11/dist-packages (from numpy>=1.22.0->scikit-learn==1.7.0) (0.1.1)\r\n",
      "Requirement already satisfied: mkl in /usr/local/lib/python3.11/dist-packages (from numpy>=1.22.0->scikit-learn==1.7.0) (2025.1.0)\r\n",
      "Requirement already satisfied: tbb4py in /usr/local/lib/python3.11/dist-packages (from numpy>=1.22.0->scikit-learn==1.7.0) (2022.1.0)\r\n",
      "Requirement already satisfied: mkl-service in /usr/local/lib/python3.11/dist-packages (from numpy>=1.22.0->scikit-learn==1.7.0) (2.4.1)\r\n",
      "Requirement already satisfied: intel-openmp<2026,>=2024 in /usr/local/lib/python3.11/dist-packages (from mkl->numpy>=1.22.0->scikit-learn==1.7.0) (2024.2.0)\r\n",
      "Requirement already satisfied: tbb==2022.* in /usr/local/lib/python3.11/dist-packages (from mkl->numpy>=1.22.0->scikit-learn==1.7.0) (2022.1.0)\r\n",
      "Requirement already satisfied: tcmlib==1.* in /usr/local/lib/python3.11/dist-packages (from tbb==2022.*->mkl->numpy>=1.22.0->scikit-learn==1.7.0) (1.3.0)\r\n",
      "Requirement already satisfied: intel-cmplr-lib-rt in /usr/local/lib/python3.11/dist-packages (from mkl_umath->numpy>=1.22.0->scikit-learn==1.7.0) (2024.2.0)\r\n",
      "Requirement already satisfied: intel-cmplr-lib-ur==2024.2.0 in /usr/local/lib/python3.11/dist-packages (from intel-openmp<2026,>=2024->mkl->numpy>=1.22.0->scikit-learn==1.7.0) (2024.2.0)\r\n",
      "scikit-learn is already installed with the same version as the provided wheel. Use --force-reinstall to force an installation of the wheel.\r\n",
      "Processing /kaggle/input/pip-install-dependencies-cmi/sktime-0.38.1-py3-none-any.whl\r\n",
      "Requirement already satisfied: joblib<1.6,>=1.2.0 in /usr/local/lib/python3.11/dist-packages (from sktime==0.38.1) (1.5.0)\r\n",
      "Requirement already satisfied: numpy<2.4,>=1.21 in /usr/local/lib/python3.11/dist-packages (from sktime==0.38.1) (1.26.4)\r\n",
      "Requirement already satisfied: packaging in /usr/local/lib/python3.11/dist-packages (from sktime==0.38.1) (25.0)\r\n",
      "Requirement already satisfied: pandas<2.4.0,>=1.1 in /usr/local/lib/python3.11/dist-packages (from sktime==0.38.1) (2.2.3)\r\n",
      "Requirement already satisfied: scikit-base<0.13.0,>=0.6.1 in /usr/local/lib/python3.11/dist-packages (from sktime==0.38.1) (0.12.3)\r\n",
      "Requirement already satisfied: scikit-learn<1.8.0,>=0.24 in /usr/local/lib/python3.11/dist-packages (from sktime==0.38.1) (1.7.0)\r\n",
      "Requirement already satisfied: scipy<2.0.0,>=1.2 in /usr/local/lib/python3.11/dist-packages (from sktime==0.38.1) (1.15.2)\r\n",
      "Requirement already satisfied: mkl_fft in /usr/local/lib/python3.11/dist-packages (from numpy<2.4,>=1.21->sktime==0.38.1) (1.3.8)\r\n",
      "Requirement already satisfied: mkl_random in /usr/local/lib/python3.11/dist-packages (from numpy<2.4,>=1.21->sktime==0.38.1) (1.2.4)\r\n",
      "Requirement already satisfied: mkl_umath in /usr/local/lib/python3.11/dist-packages (from numpy<2.4,>=1.21->sktime==0.38.1) (0.1.1)\r\n",
      "Requirement already satisfied: mkl in /usr/local/lib/python3.11/dist-packages (from numpy<2.4,>=1.21->sktime==0.38.1) (2025.1.0)\r\n",
      "Requirement already satisfied: tbb4py in /usr/local/lib/python3.11/dist-packages (from numpy<2.4,>=1.21->sktime==0.38.1) (2022.1.0)\r\n",
      "Requirement already satisfied: mkl-service in /usr/local/lib/python3.11/dist-packages (from numpy<2.4,>=1.21->sktime==0.38.1) (2.4.1)\r\n",
      "Requirement already satisfied: python-dateutil>=2.8.2 in /usr/local/lib/python3.11/dist-packages (from pandas<2.4.0,>=1.1->sktime==0.38.1) (2.9.0.post0)\r\n",
      "Requirement already satisfied: pytz>=2020.1 in /usr/local/lib/python3.11/dist-packages (from pandas<2.4.0,>=1.1->sktime==0.38.1) (2025.2)\r\n",
      "Requirement already satisfied: tzdata>=2022.7 in /usr/local/lib/python3.11/dist-packages (from pandas<2.4.0,>=1.1->sktime==0.38.1) (2025.2)\r\n",
      "Requirement already satisfied: threadpoolctl>=3.1.0 in /usr/local/lib/python3.11/dist-packages (from scikit-learn<1.8.0,>=0.24->sktime==0.38.1) (3.6.0)\r\n",
      "Requirement already satisfied: six>=1.5 in /usr/local/lib/python3.11/dist-packages (from python-dateutil>=2.8.2->pandas<2.4.0,>=1.1->sktime==0.38.1) (1.17.0)\r\n",
      "Requirement already satisfied: intel-openmp<2026,>=2024 in /usr/local/lib/python3.11/dist-packages (from mkl->numpy<2.4,>=1.21->sktime==0.38.1) (2024.2.0)\r\n",
      "Requirement already satisfied: tbb==2022.* in /usr/local/lib/python3.11/dist-packages (from mkl->numpy<2.4,>=1.21->sktime==0.38.1) (2022.1.0)\r\n",
      "Requirement already satisfied: tcmlib==1.* in /usr/local/lib/python3.11/dist-packages (from tbb==2022.*->mkl->numpy<2.4,>=1.21->sktime==0.38.1) (1.3.0)\r\n",
      "Requirement already satisfied: intel-cmplr-lib-rt in /usr/local/lib/python3.11/dist-packages (from mkl_umath->numpy<2.4,>=1.21->sktime==0.38.1) (2024.2.0)\r\n",
      "Requirement already satisfied: intel-cmplr-lib-ur==2024.2.0 in /usr/local/lib/python3.11/dist-packages (from intel-openmp<2026,>=2024->mkl->numpy<2.4,>=1.21->sktime==0.38.1) (2024.2.0)\r\n",
      "sktime is already installed with the same version as the provided wheel. Use --force-reinstall to force an installation of the wheel.\r\n"
     ]
    }
   ],
   "source": [
    "from sklearn.base import BaseEstimator, TransformerMixin\n",
    "from sktime.transformations.panel.catch22 import Catch22\n",
    "from sktime.transformations.series.summarize import SummaryTransformer\n",
    "\n",
    "from utils_custom_transformers_cmi_vsn2 import *"
   ]
  },
  {
   "cell_type": "code",
   "execution_count": 5,
   "id": "0577cf0a",
   "metadata": {
    "execution": {
     "iopub.execute_input": "2025-07-10T12:35:54.486880Z",
     "iopub.status.busy": "2025-07-10T12:35:54.485974Z",
     "iopub.status.idle": "2025-07-10T12:35:54.500219Z",
     "shell.execute_reply": "2025-07-10T12:35:54.499107Z"
    },
    "papermill": {
     "duration": 0.024007,
     "end_time": "2025-07-10T12:35:54.501819",
     "exception": false,
     "start_time": "2025-07-10T12:35:54.477812",
     "status": "completed"
    },
    "tags": []
   },
   "outputs": [],
   "source": [
    "from sklearn.preprocessing import StandardScaler\n",
    "\n",
    "class GeneralPreprocessor_2(BaseEstimator, TransformerMixin):\n",
    "    def __init__(self, impute_ts=False, scaler=StandardScaler(), rows_to_keep=None):\n",
    "        self.num_cols = None  # store numeric col names\n",
    "        self.cat_cols = None  # store categorical col names\n",
    "        self.ts_cols = None\n",
    "        self.impute_ts = impute_ts\n",
    "        self.scaler = scaler\n",
    "        self.rows_to_keep = rows_to_keep\n",
    "        \n",
    "    def fit(self, X, y=None):\n",
    "        X_copy = X.copy()\n",
    "\n",
    "        # Identify timeserie columns\n",
    "        self.ts_cols = [col for col in X_copy.columns if X_copy[col].apply(lambda x: isinstance(x, pd.Series)).all()]\n",
    "        \n",
    "        # Catgecorigal and numeric columns (excluding time series)\n",
    "        self.num_cols = X_copy.select_dtypes(include=[\"number\"]).columns.difference(self.ts_cols).tolist()\n",
    "        self.cat_cols = X_copy.select_dtypes(include=[\"object\", \"category\"]).columns.difference(self.ts_cols).tolist()\n",
    "\n",
    "        # Fit global scaler on all time series values (flattened)\n",
    "        if self.scaler and self.ts_cols:\n",
    "            all_values = []\n",
    "            \n",
    "            for col in self.ts_cols:  # Extract all values\n",
    "                for series in X_copy[col]:\n",
    "                    if isinstance(series, pd.Series):\n",
    "                        all_values.extend(series.values)\n",
    "\n",
    "            all_values = np.array(all_values).reshape(-1, 1)\n",
    "            self.scaler = self.scaler.fit(all_values)\n",
    "\n",
    "        return self\n",
    "\n",
    "    def transform(self, X):\n",
    "        X_copy = X.copy()\n",
    "\n",
    "        # Set dtype categorical\n",
    "        X_copy[self.cat_cols] = X_copy[self.cat_cols].astype(\"category\")\n",
    "\n",
    "        # Impute, scale and reshape time series\n",
    "        if self.ts_cols:\n",
    "            for col in self.ts_cols:\n",
    "                \n",
    "                def process_series(s):\n",
    "                    if not isinstance(s, pd.Series):\n",
    "                        return s\n",
    "\n",
    "                    # Impute if needed\n",
    "                    if self.impute_ts:\n",
    "                        if s.isna().all():\n",
    "                            s = pd.Series([0] * len(s), index=s.index)\n",
    "                        else:\n",
    "                            s = s.ffill().bfill()\n",
    "\n",
    "                    # Scale using global scaler\n",
    "                    if self.scaler:\n",
    "                        scaled_vals = self.scaler.transform(s.values.reshape(-1, 1)).flatten()\n",
    "                        s = pd.Series(scaled_vals, index=s.index)\n",
    "                    \n",
    "                    # Resize series to rows_to_keep\n",
    "                    if self.rows_to_keep is not None:\n",
    "                        length = len(s)\n",
    "                        target = self.rows_to_keep\n",
    "\n",
    "                        if length > target:\n",
    "                            # Truncate\n",
    "                            s = s.iloc[:target]\n",
    "                        elif length < target:\n",
    "                            # Pad with zeros at the end\n",
    "                            pad_size = target - length\n",
    "                            pad = pd.Series([0] * pad_size, index=range(length, target))\n",
    "                            s = pd.concat([s, pad])\n",
    "\n",
    "                    return s\n",
    "\n",
    "                X_copy[col] = X_copy[col].map(process_series)\n",
    "\n",
    "        return X_copy"
   ]
  },
  {
   "cell_type": "markdown",
   "id": "65ca39dc",
   "metadata": {
    "papermill": {
     "duration": 0.006586,
     "end_time": "2025-07-10T12:35:54.515949",
     "exception": false,
     "start_time": "2025-07-10T12:35:54.509363",
     "status": "completed"
    },
    "tags": []
   },
   "source": [
    "## 1.3 Data"
   ]
  },
  {
   "cell_type": "code",
   "execution_count": 6,
   "id": "df905a81",
   "metadata": {
    "execution": {
     "iopub.execute_input": "2025-07-10T12:35:54.532031Z",
     "iopub.status.busy": "2025-07-10T12:35:54.531698Z",
     "iopub.status.idle": "2025-07-10T12:36:31.377399Z",
     "shell.execute_reply": "2025-07-10T12:36:31.376440Z"
    },
    "papermill": {
     "duration": 36.85594,
     "end_time": "2025-07-10T12:36:31.379189",
     "exception": false,
     "start_time": "2025-07-10T12:35:54.523249",
     "status": "completed"
    },
    "tags": []
   },
   "outputs": [],
   "source": [
    "df_train = pd.read_csv('/kaggle/input/cmi-detect-behavior-with-sensor-data/train.csv')\n",
    "df_demo = pd.read_csv('/kaggle/input/cmi-detect-behavior-with-sensor-data/train_demographics.csv')"
   ]
  },
  {
   "cell_type": "code",
   "execution_count": 7,
   "id": "cc79820b",
   "metadata": {
    "execution": {
     "iopub.execute_input": "2025-07-10T12:36:31.395049Z",
     "iopub.status.busy": "2025-07-10T12:36:31.394719Z",
     "iopub.status.idle": "2025-07-10T12:36:31.402240Z",
     "shell.execute_reply": "2025-07-10T12:36:31.401346Z"
    },
    "papermill": {
     "duration": 0.017375,
     "end_time": "2025-07-10T12:36:31.403861",
     "exception": false,
     "start_time": "2025-07-10T12:36:31.386486",
     "status": "completed"
    },
    "tags": []
   },
   "outputs": [],
   "source": [
    "# Create a small training sample if in testing mode\n",
    "\n",
    "if TEST_MODE:\n",
    "    \n",
    "    def balanced_sample(df, target_col, total_samples, random_state=42):\n",
    "        classes = df[target_col].unique()\n",
    "        n_classes = len(classes)\n",
    "        samples_per_class = total_samples // n_classes\n",
    "        \n",
    "        balanced_parts = []\n",
    "        for cls in classes:\n",
    "            subset = df[df[target_col] == cls]\n",
    "            \n",
    "            if len(subset) < samples_per_class:\n",
    "                raise ValueError(f\"Not enough samples in class '{cls}' to take {samples_per_class}\")\n",
    "            \n",
    "            balanced_sample = subset.sample(n=samples_per_class, random_state=random_state)\n",
    "            balanced_parts.append(balanced_sample)\n",
    "        \n",
    "        return pd.concat(balanced_parts).sample(frac=1, random_state=random_state).reset_index(drop=True)\n",
    "\n",
    "    # Select sequence ids (balance gesture class)\n",
    "    df_seq_id = df_train.groupby(\"sequence_id\").first().reset_index()\n",
    "    df_seq_id_balanced = balanced_sample(df_seq_id, target_col=\"gesture\", total_samples=N*18)\n",
    "    seq_ids_to_keep = df_seq_id_balanced[\"sequence_id\"]\n",
    "    subjects_to_keep = df_seq_id_balanced[\"subject\"]\n",
    "    \n",
    "    df_train = df_train[df_train.sequence_id.isin(seq_ids_to_keep)].copy().reset_index(drop=True)\n",
    "    df_demo = df_demo[df_demo.subject.isin(subjects_to_keep)].copy().reset_index(drop=True)"
   ]
  },
  {
   "cell_type": "markdown",
   "id": "8ac22338",
   "metadata": {
    "papermill": {
     "duration": 0.006643,
     "end_time": "2025-07-10T12:36:31.417637",
     "exception": false,
     "start_time": "2025-07-10T12:36:31.410994",
     "status": "completed"
    },
    "tags": []
   },
   "source": [
    "# 2. Data preprocessing"
   ]
  },
  {
   "cell_type": "markdown",
   "id": "b1c0ab02",
   "metadata": {
    "papermill": {
     "duration": 0.006587,
     "end_time": "2025-07-10T12:36:31.431126",
     "exception": false,
     "start_time": "2025-07-10T12:36:31.424539",
     "status": "completed"
    },
    "tags": []
   },
   "source": [
    "## 2.1 Set-up processing X data"
   ]
  },
  {
   "cell_type": "code",
   "execution_count": 8,
   "id": "5632ba8e",
   "metadata": {
    "execution": {
     "iopub.execute_input": "2025-07-10T12:36:31.446391Z",
     "iopub.status.busy": "2025-07-10T12:36:31.446026Z",
     "iopub.status.idle": "2025-07-10T12:36:31.918616Z",
     "shell.execute_reply": "2025-07-10T12:36:31.917664Z"
    },
    "papermill": {
     "duration": 0.482313,
     "end_time": "2025-07-10T12:36:31.920428",
     "exception": false,
     "start_time": "2025-07-10T12:36:31.438115",
     "status": "completed"
    },
    "tags": []
   },
   "outputs": [],
   "source": [
    "from sklearn.pipeline import Pipeline\n",
    "\n",
    "# Define TOF and THM columns\n",
    "tof_cols = [col for col in df_train.columns if 'tof_' in col]\n",
    "thm_cols = [col for col in df_train.columns if 'thm_' in col]\n",
    "\n",
    "# Define time serie columns\n",
    "ts_cols = ['acc_x', 'acc_y', 'acc_z', 'rot_x', 'rot_y', 'rot_z', 'rot_w', 'mean_tof', 'mean_thm']\n",
    "\n",
    "# Define features to drop\n",
    "features_to_remove = ['row_id', 'sequence_id', 'subject', 'behavior', 'phase', 'orientation']\n",
    "\n",
    "# Define the number of rows to keep\n",
    "rows_to_keep = round(np.median(df_train[df_train.behavior == 'Performs gesture'].groupby(['sequence_id'])[\"sequence_counter\"].count().values))"
   ]
  },
  {
   "cell_type": "code",
   "execution_count": 9,
   "id": "5724a175",
   "metadata": {
    "execution": {
     "iopub.execute_input": "2025-07-10T12:36:31.935695Z",
     "iopub.status.busy": "2025-07-10T12:36:31.935370Z",
     "iopub.status.idle": "2025-07-10T12:36:31.940807Z",
     "shell.execute_reply": "2025-07-10T12:36:31.939810Z"
    },
    "papermill": {
     "duration": 0.014954,
     "end_time": "2025-07-10T12:36:31.942496",
     "exception": false,
     "start_time": "2025-07-10T12:36:31.927542",
     "status": "completed"
    },
    "tags": []
   },
   "outputs": [],
   "source": [
    "preprocessor = Pipeline([\n",
    "    ('data_cleaning', DataCleaner()),\n",
    "    ('avg_cols_tof', AverageColumnsTransformer(columns_to_average=tof_cols, new_column_name='mean_tof')),\n",
    "    ('avg_cols_thm', AverageColumnsTransformer(columns_to_average=thm_cols, new_column_name='mean_thm')),\n",
    "    ('to_nested', ToNestedTransformer(ts_cols=ts_cols, group_col='sequence_id', rows_to_keep=rows_to_keep)),\n",
    "    ('feature_selection', FeatureSelector(features_to_remove=features_to_remove)),\n",
    "    ('general_preprocessing', GeneralPreprocessor_2(impute_ts=True, rows_to_keep=rows_to_keep))\n",
    "])"
   ]
  },
  {
   "cell_type": "markdown",
   "id": "052aaa8d",
   "metadata": {
    "papermill": {
     "duration": 0.006672,
     "end_time": "2025-07-10T12:36:31.956769",
     "exception": false,
     "start_time": "2025-07-10T12:36:31.950097",
     "status": "completed"
    },
    "tags": []
   },
   "source": [
    "## 2.2 Set-up encoding y data"
   ]
  },
  {
   "cell_type": "code",
   "execution_count": 10,
   "id": "c5afa855",
   "metadata": {
    "execution": {
     "iopub.execute_input": "2025-07-10T12:36:31.971922Z",
     "iopub.status.busy": "2025-07-10T12:36:31.971614Z",
     "iopub.status.idle": "2025-07-10T12:36:31.976872Z",
     "shell.execute_reply": "2025-07-10T12:36:31.975963Z"
    },
    "papermill": {
     "duration": 0.01495,
     "end_time": "2025-07-10T12:36:31.978651",
     "exception": false,
     "start_time": "2025-07-10T12:36:31.963701",
     "status": "completed"
    },
    "tags": []
   },
   "outputs": [],
   "source": [
    "from sklearn.preprocessing import LabelEncoder\n",
    "\n",
    "# Encode target columns\n",
    "encoder_sequence_type = LabelEncoder()\n",
    "encoder_gesture = LabelEncoder()"
   ]
  },
  {
   "cell_type": "markdown",
   "id": "1246263d",
   "metadata": {
    "papermill": {
     "duration": 0.006951,
     "end_time": "2025-07-10T12:36:31.993534",
     "exception": false,
     "start_time": "2025-07-10T12:36:31.986583",
     "status": "completed"
    },
    "tags": []
   },
   "source": [
    "## 2.3 Split X and y data"
   ]
  },
  {
   "cell_type": "code",
   "execution_count": 11,
   "id": "23bf3df3",
   "metadata": {
    "execution": {
     "iopub.execute_input": "2025-07-10T12:36:32.009569Z",
     "iopub.status.busy": "2025-07-10T12:36:32.009261Z",
     "iopub.status.idle": "2025-07-10T12:36:33.429466Z",
     "shell.execute_reply": "2025-07-10T12:36:33.428570Z"
    },
    "papermill": {
     "duration": 1.430414,
     "end_time": "2025-07-10T12:36:33.431119",
     "exception": false,
     "start_time": "2025-07-10T12:36:32.000705",
     "status": "completed"
    },
    "tags": []
   },
   "outputs": [],
   "source": [
    "# df_X raw data\n",
    "df_X = df_train.drop(['sequence_type', 'gesture','orientation'], axis=1).copy()\n",
    "\n",
    "# df_y short format\n",
    "df_y = df_train[['sequence_id', 'sequence_type', 'gesture']].groupby('sequence_id').agg({\n",
    "    'sequence_type': 'first',\n",
    "    'gesture': 'first'\n",
    "}).reset_index()"
   ]
  },
  {
   "cell_type": "markdown",
   "id": "7c60cf1d",
   "metadata": {
    "papermill": {
     "duration": 0.006656,
     "end_time": "2025-07-10T12:36:33.444856",
     "exception": false,
     "start_time": "2025-07-10T12:36:33.438200",
     "status": "completed"
    },
    "tags": []
   },
   "source": [
    "## 2.4 Apply preprocessing"
   ]
  },
  {
   "cell_type": "code",
   "execution_count": 12,
   "id": "99d519ec",
   "metadata": {
    "execution": {
     "iopub.execute_input": "2025-07-10T12:36:33.460153Z",
     "iopub.status.busy": "2025-07-10T12:36:33.459792Z",
     "iopub.status.idle": "2025-07-10T12:37:20.097802Z",
     "shell.execute_reply": "2025-07-10T12:37:20.096831Z"
    },
    "papermill": {
     "duration": 46.656326,
     "end_time": "2025-07-10T12:37:20.108271",
     "exception": false,
     "start_time": "2025-07-10T12:36:33.451945",
     "status": "completed"
    },
    "tags": []
   },
   "outputs": [
    {
     "data": {
      "text/html": [
       "<div>\n",
       "<style scoped>\n",
       "    .dataframe tbody tr th:only-of-type {\n",
       "        vertical-align: middle;\n",
       "    }\n",
       "\n",
       "    .dataframe tbody tr th {\n",
       "        vertical-align: top;\n",
       "    }\n",
       "\n",
       "    .dataframe thead th {\n",
       "        text-align: right;\n",
       "    }\n",
       "</style>\n",
       "<table border=\"1\" class=\"dataframe\">\n",
       "  <thead>\n",
       "    <tr style=\"text-align: right;\">\n",
       "      <th></th>\n",
       "      <th>acc_x</th>\n",
       "      <th>acc_y</th>\n",
       "      <th>acc_z</th>\n",
       "      <th>rot_x</th>\n",
       "      <th>rot_y</th>\n",
       "      <th>rot_z</th>\n",
       "      <th>rot_w</th>\n",
       "      <th>mean_tof</th>\n",
       "      <th>mean_thm</th>\n",
       "    </tr>\n",
       "  </thead>\n",
       "  <tbody>\n",
       "    <tr>\n",
       "      <th>0</th>\n",
       "      <td>0    -0.215994\n",
       "1    -0.214912\n",
       "2    -0.228487\n",
       "3...</td>\n",
       "      <td>0    -0.249834\n",
       "1    -0.253671\n",
       "2    -0.245014\n",
       "3...</td>\n",
       "      <td>0    -0.274624\n",
       "1    -0.250523\n",
       "2    -0.280428\n",
       "3...</td>\n",
       "      <td>0    -0.398984\n",
       "1    -0.398949\n",
       "2    -0.399639\n",
       "3...</td>\n",
       "      <td>0    -0.402521\n",
       "1    -0.402821\n",
       "2    -0.403316\n",
       "3...</td>\n",
       "      <td>0    -0.412591\n",
       "1    -0.412566\n",
       "2    -0.412223\n",
       "3...</td>\n",
       "      <td>0    -0.385412\n",
       "1    -0.385801\n",
       "2    -0.386428\n",
       "3...</td>\n",
       "      <td>0     1.498588\n",
       "1     1.541346\n",
       "2     1.341093\n",
       "3...</td>\n",
       "      <td>0     0.344770\n",
       "1     0.346242\n",
       "2     0.343822\n",
       "3...</td>\n",
       "    </tr>\n",
       "    <tr>\n",
       "      <th>1</th>\n",
       "      <td>0    -0.323122\n",
       "1    -0.348207\n",
       "2    -0.278756\n",
       "3...</td>\n",
       "      <td>0    -0.173595\n",
       "1    -0.229569\n",
       "2    -0.202615\n",
       "3...</td>\n",
       "      <td>0    -0.348502\n",
       "1    -0.246293\n",
       "2    -0.273247\n",
       "3...</td>\n",
       "      <td>0    -0.394982\n",
       "1    -0.393505\n",
       "2    -0.394771\n",
       "3...</td>\n",
       "      <td>0    -0.404363\n",
       "1    -0.402859\n",
       "2    -0.403920\n",
       "3...</td>\n",
       "      <td>0    -0.412964\n",
       "1    -0.413554\n",
       "2    -0.413101\n",
       "3...</td>\n",
       "      <td>0    -0.386929\n",
       "1    -0.385440\n",
       "2    -0.386326\n",
       "3...</td>\n",
       "      <td>0     2.458279\n",
       "1     2.658218\n",
       "2     2.583272\n",
       "3...</td>\n",
       "      <td>0     0.385200\n",
       "1     0.384031\n",
       "2     0.382366\n",
       "3...</td>\n",
       "    </tr>\n",
       "    <tr>\n",
       "      <th>2</th>\n",
       "      <td>0    -0.577416\n",
       "1    -0.550560\n",
       "2    -0.612338\n",
       "3...</td>\n",
       "      <td>0    -0.303841\n",
       "1    -0.273935\n",
       "2    -0.324991\n",
       "3...</td>\n",
       "      <td>0    -0.537280\n",
       "1    -0.514162\n",
       "2    -0.549871\n",
       "3...</td>\n",
       "      <td>0    -0.385796\n",
       "1    -0.384872\n",
       "2    -0.385117\n",
       "3...</td>\n",
       "      <td>0    -0.370725\n",
       "1    -0.370922\n",
       "2    -0.370525\n",
       "3...</td>\n",
       "      <td>0    -0.390220\n",
       "1    -0.390440\n",
       "2    -0.390759\n",
       "3...</td>\n",
       "      <td>0    -0.379775\n",
       "1    -0.379903\n",
       "2    -0.380443\n",
       "3...</td>\n",
       "      <td>0     5.090297\n",
       "1     5.154008\n",
       "2     5.113989\n",
       "3...</td>\n",
       "      <td>0     0.224444\n",
       "1     0.224258\n",
       "2     0.224431\n",
       "3...</td>\n",
       "    </tr>\n",
       "    <tr>\n",
       "      <th>3</th>\n",
       "      <td>0    -0.269607\n",
       "1    -0.259966\n",
       "2    -0.257015\n",
       "3...</td>\n",
       "      <td>0    -0.515638\n",
       "1    -0.513670\n",
       "2    -0.509834\n",
       "3...</td>\n",
       "      <td>0    -0.575153\n",
       "1    -0.562463\n",
       "2    -0.562562\n",
       "3...</td>\n",
       "      <td>0    -0.413477\n",
       "1    -0.413477\n",
       "2    -0.413490\n",
       "3...</td>\n",
       "      <td>0    -0.400627\n",
       "1    -0.400618\n",
       "2    -0.400434\n",
       "3...</td>\n",
       "      <td>0    -0.395733\n",
       "1    -0.395887\n",
       "2    -0.396213\n",
       "3...</td>\n",
       "      <td>0    -0.383125\n",
       "1    -0.383185\n",
       "2    -0.383189\n",
       "3...</td>\n",
       "      <td>0    -0.160336\n",
       "1    -0.157194\n",
       "2    -0.153563\n",
       "3...</td>\n",
       "      <td>0     0.474856\n",
       "1     0.479016\n",
       "2     0.480584\n",
       "3...</td>\n",
       "    </tr>\n",
       "    <tr>\n",
       "      <th>4</th>\n",
       "      <td>0    -0.229471\n",
       "1    -0.232422\n",
       "2    -0.230553\n",
       "3...</td>\n",
       "      <td>0    -0.233307\n",
       "1    -0.235275\n",
       "2    -0.237144\n",
       "3...</td>\n",
       "      <td>0    -0.281608\n",
       "1    -0.284560\n",
       "2    -0.283576\n",
       "3...</td>\n",
       "      <td>0    -0.384745\n",
       "1    -0.384843\n",
       "2    -0.384962\n",
       "3...</td>\n",
       "      <td>0    -0.403191\n",
       "1    -0.403177\n",
       "2    -0.403131\n",
       "3...</td>\n",
       "      <td>0    -0.396304\n",
       "1    -0.396345\n",
       "2    -0.396417\n",
       "3...</td>\n",
       "      <td>0    -0.371006\n",
       "1    -0.370976\n",
       "2    -0.370926\n",
       "3...</td>\n",
       "      <td>0     2.510606\n",
       "1     2.538807\n",
       "2     2.594196\n",
       "3...</td>\n",
       "      <td>0     0.341484\n",
       "1     0.344043\n",
       "2     0.345857\n",
       "3...</td>\n",
       "    </tr>\n",
       "  </tbody>\n",
       "</table>\n",
       "</div>"
      ],
      "text/plain": [
       "                                               acc_x  \\\n",
       "0  0    -0.215994\n",
       "1    -0.214912\n",
       "2    -0.228487\n",
       "3...   \n",
       "1  0    -0.323122\n",
       "1    -0.348207\n",
       "2    -0.278756\n",
       "3...   \n",
       "2  0    -0.577416\n",
       "1    -0.550560\n",
       "2    -0.612338\n",
       "3...   \n",
       "3  0    -0.269607\n",
       "1    -0.259966\n",
       "2    -0.257015\n",
       "3...   \n",
       "4  0    -0.229471\n",
       "1    -0.232422\n",
       "2    -0.230553\n",
       "3...   \n",
       "\n",
       "                                               acc_y  \\\n",
       "0  0    -0.249834\n",
       "1    -0.253671\n",
       "2    -0.245014\n",
       "3...   \n",
       "1  0    -0.173595\n",
       "1    -0.229569\n",
       "2    -0.202615\n",
       "3...   \n",
       "2  0    -0.303841\n",
       "1    -0.273935\n",
       "2    -0.324991\n",
       "3...   \n",
       "3  0    -0.515638\n",
       "1    -0.513670\n",
       "2    -0.509834\n",
       "3...   \n",
       "4  0    -0.233307\n",
       "1    -0.235275\n",
       "2    -0.237144\n",
       "3...   \n",
       "\n",
       "                                               acc_z  \\\n",
       "0  0    -0.274624\n",
       "1    -0.250523\n",
       "2    -0.280428\n",
       "3...   \n",
       "1  0    -0.348502\n",
       "1    -0.246293\n",
       "2    -0.273247\n",
       "3...   \n",
       "2  0    -0.537280\n",
       "1    -0.514162\n",
       "2    -0.549871\n",
       "3...   \n",
       "3  0    -0.575153\n",
       "1    -0.562463\n",
       "2    -0.562562\n",
       "3...   \n",
       "4  0    -0.281608\n",
       "1    -0.284560\n",
       "2    -0.283576\n",
       "3...   \n",
       "\n",
       "                                               rot_x  \\\n",
       "0  0    -0.398984\n",
       "1    -0.398949\n",
       "2    -0.399639\n",
       "3...   \n",
       "1  0    -0.394982\n",
       "1    -0.393505\n",
       "2    -0.394771\n",
       "3...   \n",
       "2  0    -0.385796\n",
       "1    -0.384872\n",
       "2    -0.385117\n",
       "3...   \n",
       "3  0    -0.413477\n",
       "1    -0.413477\n",
       "2    -0.413490\n",
       "3...   \n",
       "4  0    -0.384745\n",
       "1    -0.384843\n",
       "2    -0.384962\n",
       "3...   \n",
       "\n",
       "                                               rot_y  \\\n",
       "0  0    -0.402521\n",
       "1    -0.402821\n",
       "2    -0.403316\n",
       "3...   \n",
       "1  0    -0.404363\n",
       "1    -0.402859\n",
       "2    -0.403920\n",
       "3...   \n",
       "2  0    -0.370725\n",
       "1    -0.370922\n",
       "2    -0.370525\n",
       "3...   \n",
       "3  0    -0.400627\n",
       "1    -0.400618\n",
       "2    -0.400434\n",
       "3...   \n",
       "4  0    -0.403191\n",
       "1    -0.403177\n",
       "2    -0.403131\n",
       "3...   \n",
       "\n",
       "                                               rot_z  \\\n",
       "0  0    -0.412591\n",
       "1    -0.412566\n",
       "2    -0.412223\n",
       "3...   \n",
       "1  0    -0.412964\n",
       "1    -0.413554\n",
       "2    -0.413101\n",
       "3...   \n",
       "2  0    -0.390220\n",
       "1    -0.390440\n",
       "2    -0.390759\n",
       "3...   \n",
       "3  0    -0.395733\n",
       "1    -0.395887\n",
       "2    -0.396213\n",
       "3...   \n",
       "4  0    -0.396304\n",
       "1    -0.396345\n",
       "2    -0.396417\n",
       "3...   \n",
       "\n",
       "                                               rot_w  \\\n",
       "0  0    -0.385412\n",
       "1    -0.385801\n",
       "2    -0.386428\n",
       "3...   \n",
       "1  0    -0.386929\n",
       "1    -0.385440\n",
       "2    -0.386326\n",
       "3...   \n",
       "2  0    -0.379775\n",
       "1    -0.379903\n",
       "2    -0.380443\n",
       "3...   \n",
       "3  0    -0.383125\n",
       "1    -0.383185\n",
       "2    -0.383189\n",
       "3...   \n",
       "4  0    -0.371006\n",
       "1    -0.370976\n",
       "2    -0.370926\n",
       "3...   \n",
       "\n",
       "                                            mean_tof  \\\n",
       "0  0     1.498588\n",
       "1     1.541346\n",
       "2     1.341093\n",
       "3...   \n",
       "1  0     2.458279\n",
       "1     2.658218\n",
       "2     2.583272\n",
       "3...   \n",
       "2  0     5.090297\n",
       "1     5.154008\n",
       "2     5.113989\n",
       "3...   \n",
       "3  0    -0.160336\n",
       "1    -0.157194\n",
       "2    -0.153563\n",
       "3...   \n",
       "4  0     2.510606\n",
       "1     2.538807\n",
       "2     2.594196\n",
       "3...   \n",
       "\n",
       "                                            mean_thm  \n",
       "0  0     0.344770\n",
       "1     0.346242\n",
       "2     0.343822\n",
       "3...  \n",
       "1  0     0.385200\n",
       "1     0.384031\n",
       "2     0.382366\n",
       "3...  \n",
       "2  0     0.224444\n",
       "1     0.224258\n",
       "2     0.224431\n",
       "3...  \n",
       "3  0     0.474856\n",
       "1     0.479016\n",
       "2     0.480584\n",
       "3...  \n",
       "4  0     0.341484\n",
       "1     0.344043\n",
       "2     0.345857\n",
       "3...  "
      ]
     },
     "execution_count": 12,
     "metadata": {},
     "output_type": "execute_result"
    }
   ],
   "source": [
    "df_X_transformed = preprocessor.fit_transform(df_X)\n",
    "df_X_transformed.reset_index(drop=True, inplace=True)\n",
    "df_X_transformed.head()"
   ]
  },
  {
   "cell_type": "code",
   "execution_count": 13,
   "id": "66fe2fde",
   "metadata": {
    "execution": {
     "iopub.execute_input": "2025-07-10T12:37:20.125168Z",
     "iopub.status.busy": "2025-07-10T12:37:20.124824Z",
     "iopub.status.idle": "2025-07-10T12:37:20.144677Z",
     "shell.execute_reply": "2025-07-10T12:37:20.143735Z"
    },
    "papermill": {
     "duration": 0.030538,
     "end_time": "2025-07-10T12:37:20.146293",
     "exception": false,
     "start_time": "2025-07-10T12:37:20.115755",
     "status": "completed"
    },
    "tags": []
   },
   "outputs": [
    {
     "data": {
      "text/html": [
       "<div>\n",
       "<style scoped>\n",
       "    .dataframe tbody tr th:only-of-type {\n",
       "        vertical-align: middle;\n",
       "    }\n",
       "\n",
       "    .dataframe tbody tr th {\n",
       "        vertical-align: top;\n",
       "    }\n",
       "\n",
       "    .dataframe thead th {\n",
       "        text-align: right;\n",
       "    }\n",
       "</style>\n",
       "<table border=\"1\" class=\"dataframe\">\n",
       "  <thead>\n",
       "    <tr style=\"text-align: right;\">\n",
       "      <th></th>\n",
       "      <th>sequence_id</th>\n",
       "      <th>sequence_type</th>\n",
       "      <th>gesture</th>\n",
       "    </tr>\n",
       "  </thead>\n",
       "  <tbody>\n",
       "    <tr>\n",
       "      <th>0</th>\n",
       "      <td>SEQ_000007</td>\n",
       "      <td>1</td>\n",
       "      <td>1</td>\n",
       "    </tr>\n",
       "    <tr>\n",
       "      <th>1</th>\n",
       "      <td>SEQ_000008</td>\n",
       "      <td>1</td>\n",
       "      <td>6</td>\n",
       "    </tr>\n",
       "    <tr>\n",
       "      <th>2</th>\n",
       "      <td>SEQ_000013</td>\n",
       "      <td>1</td>\n",
       "      <td>1</td>\n",
       "    </tr>\n",
       "    <tr>\n",
       "      <th>3</th>\n",
       "      <td>SEQ_000016</td>\n",
       "      <td>0</td>\n",
       "      <td>17</td>\n",
       "    </tr>\n",
       "    <tr>\n",
       "      <th>4</th>\n",
       "      <td>SEQ_000018</td>\n",
       "      <td>1</td>\n",
       "      <td>6</td>\n",
       "    </tr>\n",
       "  </tbody>\n",
       "</table>\n",
       "</div>"
      ],
      "text/plain": [
       "  sequence_id  sequence_type  gesture\n",
       "0  SEQ_000007              1        1\n",
       "1  SEQ_000008              1        6\n",
       "2  SEQ_000013              1        1\n",
       "3  SEQ_000016              0       17\n",
       "4  SEQ_000018              1        6"
      ]
     },
     "execution_count": 13,
     "metadata": {},
     "output_type": "execute_result"
    }
   ],
   "source": [
    "# Transform y data\n",
    "df_y_encoded = df_y.copy()\n",
    "\n",
    "df_y_encoded['sequence_type'] = encoder_sequence_type.fit_transform(df_y['sequence_type'])\n",
    "df_y_encoded['gesture'] = encoder_gesture.fit_transform(df_y['gesture'])\n",
    "\n",
    "df_y_encoded.head()"
   ]
  },
  {
   "cell_type": "markdown",
   "id": "9d6dec3e",
   "metadata": {
    "papermill": {
     "duration": 0.008708,
     "end_time": "2025-07-10T12:37:20.164184",
     "exception": false,
     "start_time": "2025-07-10T12:37:20.155476",
     "status": "completed"
    },
    "tags": []
   },
   "source": [
    "# 3. sktime base models"
   ]
  },
  {
   "cell_type": "code",
   "execution_count": 14,
   "id": "ef54047d",
   "metadata": {
    "execution": {
     "iopub.execute_input": "2025-07-10T12:37:20.184215Z",
     "iopub.status.busy": "2025-07-10T12:37:20.183894Z",
     "iopub.status.idle": "2025-07-10T12:37:20.195391Z",
     "shell.execute_reply": "2025-07-10T12:37:20.194430Z"
    },
    "papermill": {
     "duration": 0.024501,
     "end_time": "2025-07-10T12:37:20.197882",
     "exception": false,
     "start_time": "2025-07-10T12:37:20.173381",
     "status": "completed"
    },
    "tags": []
   },
   "outputs": [],
   "source": [
    "from sklearn.model_selection import cross_val_score\n",
    "from sklearn.model_selection import cross_val_predict\n",
    "from metric import score"
   ]
  },
  {
   "cell_type": "code",
   "execution_count": 15,
   "id": "61062be3",
   "metadata": {
    "execution": {
     "iopub.execute_input": "2025-07-10T12:37:20.215464Z",
     "iopub.status.busy": "2025-07-10T12:37:20.215120Z",
     "iopub.status.idle": "2025-07-10T12:37:20.221303Z",
     "shell.execute_reply": "2025-07-10T12:37:20.220369Z"
    },
    "papermill": {
     "duration": 0.016784,
     "end_time": "2025-07-10T12:37:20.222946",
     "exception": false,
     "start_time": "2025-07-10T12:37:20.206162",
     "status": "completed"
    },
    "tags": []
   },
   "outputs": [],
   "source": [
    "def pred_hard_and_score(model, df_X, df_y_encoded, df_y):\n",
    "\n",
    "    y_pred = cross_val_predict(model,\n",
    "                               X=df_X, y=df_y_encoded.gesture,\n",
    "                               cv=CV)\n",
    "\n",
    "    y_pred = encoder_gesture.inverse_transform(y_pred)\n",
    "    df_submission = pd.DataFrame({'sequence_id': df_y.sequence_id,\n",
    "                                  'gesture': y_pred})\n",
    "       \n",
    "    f1 = score(df_submission, df_y[['sequence_id', 'gesture']], 'sequence_id')\n",
    "\n",
    "    return y_pred, f1"
   ]
  },
  {
   "cell_type": "code",
   "execution_count": 16,
   "id": "efbd7195",
   "metadata": {
    "execution": {
     "iopub.execute_input": "2025-07-10T12:37:20.242533Z",
     "iopub.status.busy": "2025-07-10T12:37:20.242215Z",
     "iopub.status.idle": "2025-07-10T12:37:20.249068Z",
     "shell.execute_reply": "2025-07-10T12:37:20.248109Z"
    },
    "papermill": {
     "duration": 0.018742,
     "end_time": "2025-07-10T12:37:20.250663",
     "exception": false,
     "start_time": "2025-07-10T12:37:20.231921",
     "status": "completed"
    },
    "tags": []
   },
   "outputs": [],
   "source": [
    "def pred_and_score(model, df_X, df_y_encoded, df_y):\n",
    "\n",
    "    # Cross val predict\n",
    "    y_proba = cross_val_predict(model,\n",
    "                               X=df_X, y=df_y_encoded.gesture,\n",
    "                               cv=CV, method=\"predict_proba\")\n",
    "    y_pred_indices = np.argmax(y_proba, axis=1)\n",
    "    y_pred = encoder_gesture.inverse_transform(y_pred_indices)\n",
    "\n",
    "    df_submission = pd.DataFrame({'sequence_id': df_y.sequence_id,\n",
    "                                  'gesture': y_pred})\n",
    "       \n",
    "    f1 = score(df_submission, df_y[['sequence_id', 'gesture']], 'sequence_id')\n",
    "\n",
    "    # Training final model\n",
    "    model.fit(X=df_X, y=df_y_encoded.gesture)\n",
    "\n",
    "    return model, y_proba, f1"
   ]
  },
  {
   "cell_type": "code",
   "execution_count": 17,
   "id": "b079d0ac",
   "metadata": {
    "execution": {
     "iopub.execute_input": "2025-07-10T12:37:20.268288Z",
     "iopub.status.busy": "2025-07-10T12:37:20.267406Z",
     "iopub.status.idle": "2025-07-10T12:37:20.274531Z",
     "shell.execute_reply": "2025-07-10T12:37:20.273666Z"
    },
    "papermill": {
     "duration": 0.017835,
     "end_time": "2025-07-10T12:37:20.276189",
     "exception": false,
     "start_time": "2025-07-10T12:37:20.258354",
     "status": "completed"
    },
    "tags": []
   },
   "outputs": [],
   "source": [
    "def results_to_df(results, csv_name):\n",
    "    # Number of classes (assuming all models predict same classes)\n",
    "    n_classes = results[0]['y_pred'].shape[1]\n",
    "    \n",
    "    # Prepare dict to hold stacked prob arrays\n",
    "    stacked_probs = {}\n",
    "    \n",
    "    for res in results:\n",
    "        model_name = res[\"model\"]\n",
    "        proba = res[\"y_pred\"]  # shape: (n_samples, n_classes)\n",
    "        \n",
    "        # Create column names like 'SummaryClassifier_class0', 'SummaryClassifier_class1', ...\n",
    "        col_names = [f\"{model_name}_class{i}\" for i in range(n_classes)]\n",
    "        \n",
    "        # Store the probabilities with these columns\n",
    "        stacked_probs.update(dict(zip(col_names, proba.T)))\n",
    "    \n",
    "    # Now build the DataFrame; transpose stacked_probs so each key is a column with length n_samples\n",
    "    df_stack_features = pd.DataFrame({k: v for k, v in stacked_probs.items()})\n",
    "    \n",
    "    df_stack_features.to_csv(csv_name)\n",
    "\n",
    "    return df_stack_features"
   ]
  },
  {
   "cell_type": "markdown",
   "id": "b2dd2c10",
   "metadata": {
    "papermill": {
     "duration": 0.00886,
     "end_time": "2025-07-10T12:37:20.294234",
     "exception": false,
     "start_time": "2025-07-10T12:37:20.285374",
     "status": "completed"
    },
    "tags": []
   },
   "source": [
    "## 3.2 Set-up testing"
   ]
  },
  {
   "cell_type": "code",
   "execution_count": 18,
   "id": "2d21d148",
   "metadata": {
    "execution": {
     "iopub.execute_input": "2025-07-10T12:37:20.315105Z",
     "iopub.status.busy": "2025-07-10T12:37:20.314773Z",
     "iopub.status.idle": "2025-07-10T12:37:28.037499Z",
     "shell.execute_reply": "2025-07-10T12:37:28.036531Z"
    },
    "papermill": {
     "duration": 7.734991,
     "end_time": "2025-07-10T12:37:28.039383",
     "exception": false,
     "start_time": "2025-07-10T12:37:20.304392",
     "status": "completed"
    },
    "tags": []
   },
   "outputs": [],
   "source": [
    "# import models\n",
    "from sktime.classification.feature_based import SummaryClassifier\n",
    "from sktime.classification.distance_based import KNeighborsTimeSeriesClassifier\n",
    "from sktime.classification.dictionary_based import TemporalDictionaryEnsemble\n",
    "from sktime.classification.deep_learning import InceptionTimeClassifier\n",
    "from sktime.classification.kernel_based import RocketClassifier\n",
    "from sktime.classification.interval_based import CanonicalIntervalForest\n",
    "\n",
    "import time\n",
    "import joblib"
   ]
  },
  {
   "cell_type": "code",
   "execution_count": 19,
   "id": "e294e9c4",
   "metadata": {
    "execution": {
     "iopub.execute_input": "2025-07-10T12:37:28.057336Z",
     "iopub.status.busy": "2025-07-10T12:37:28.056391Z",
     "iopub.status.idle": "2025-07-10T17:02:06.773194Z",
     "shell.execute_reply": "2025-07-10T17:02:06.772188Z"
    },
    "papermill": {
     "duration": 15878.727977,
     "end_time": "2025-07-10T17:02:06.775325",
     "exception": false,
     "start_time": "2025-07-10T12:37:28.047348",
     "status": "completed"
    },
    "tags": []
   },
   "outputs": [
    {
     "name": "stdout",
     "output_type": "stream",
     "text": [
      "Training SummaryClassifier...\n",
      "SummaryClassifier finished in 1056.92 seconds with F1 score = 0.7857\n",
      "\n",
      "Training KNeighborsTimeSeriesClassifier...\n",
      "KNeighborsTimeSeriesClassifier finished in 770.00 seconds with F1 score = 0.6290\n",
      "\n",
      "Training RocketClassifier...\n",
      "RocketClassifier finished in 662.10 seconds with F1 score = 0.7326\n",
      "\n",
      "Training CanonicalIntervalForest...\n",
      "CanonicalIntervalForest finished in 13364.98 seconds with F1 score = 0.7253\n",
      "\n"
     ]
    }
   ],
   "source": [
    "models = [\n",
    "    SummaryClassifier(random_state=2025),\n",
    "    KNeighborsTimeSeriesClassifier(n_neighbors=5, distance=\"dtw\"),\n",
    "    #TemporalDictionaryEnsemble(n_parameter_samples=10, max_ensemble_size=3, randomly_selected_params=5, random_state=2025),\n",
    "    #InceptionTimeClassifier(n_epochs=10, batch_size=32, random_state=2025),\n",
    "    RocketClassifier(num_kernels=5000, rocket_transform=\"minirocket\", random_state=2025),\n",
    "    CanonicalIntervalForest(n_estimators=20, min_interval=10, att_subsample_size=8, random_state=2025)\n",
    "]\n",
    "\n",
    "results = []\n",
    "\n",
    "for model in models:\n",
    "    \n",
    "    model_name = model.__class__.__name__\n",
    "    print(f\"Training {model_name}...\")\n",
    "    \n",
    "    start_time = time.time()\n",
    "\n",
    "    trained_model, y_pred, f1 = pred_and_score(model, df_X_transformed, df_y_encoded, df_y)\n",
    "\n",
    "    duration = time.time() - start_time\n",
    "\n",
    "    results.append({\n",
    "        \"model\": model_name,\n",
    "        \"f1_score\": f1,\n",
    "        \"y_pred\": y_pred,\n",
    "        \"time_sec\": duration\n",
    "    })\n",
    "\n",
    "    # Save model\n",
    "    joblib.dump(trained_model, model_name + '_all_data.pkl')\n",
    "    \n",
    "    print(f\"{model_name} finished in {duration:.2f} seconds with F1 score = {f1:.4f}\")\n",
    "    print()\n",
    "\n",
    "# Transform results to a Dataframe\n",
    "df_X_meta_all = results_to_df(results, 'base_models_proba.csv')"
   ]
  },
  {
   "cell_type": "markdown",
   "id": "c316dafa",
   "metadata": {
    "papermill": {
     "duration": 0.007736,
     "end_time": "2025-07-10T17:02:06.791462",
     "exception": false,
     "start_time": "2025-07-10T17:02:06.783726",
     "status": "completed"
    },
    "tags": []
   },
   "source": [
    "## 3.3 IMU data only"
   ]
  },
  {
   "cell_type": "code",
   "execution_count": 20,
   "id": "c6de185c",
   "metadata": {
    "execution": {
     "iopub.execute_input": "2025-07-10T17:02:06.809864Z",
     "iopub.status.busy": "2025-07-10T17:02:06.809511Z",
     "iopub.status.idle": "2025-07-10T20:49:58.982593Z",
     "shell.execute_reply": "2025-07-10T20:49:58.981566Z"
    },
    "papermill": {
     "duration": 13672.185061,
     "end_time": "2025-07-10T20:49:58.984557",
     "exception": false,
     "start_time": "2025-07-10T17:02:06.799496",
     "status": "completed"
    },
    "tags": []
   },
   "outputs": [
    {
     "name": "stdout",
     "output_type": "stream",
     "text": [
      "Training SummaryClassifier...\n",
      "SummaryClassifier finished in 941.58 seconds with F1 score = 0.7277\n",
      "\n",
      "Training KNeighborsTimeSeriesClassifier...\n",
      "KNeighborsTimeSeriesClassifier finished in 670.59 seconds with F1 score = 0.6214\n",
      "\n",
      "Training RocketClassifier...\n",
      "RocketClassifier finished in 581.01 seconds with F1 score = 0.6935\n",
      "\n",
      "Training CanonicalIntervalForest...\n",
      "CanonicalIntervalForest finished in 11451.42 seconds with F1 score = 0.6733\n",
      "\n"
     ]
    }
   ],
   "source": [
    "df_X_IMU = df_X_transformed.drop(['mean_tof', 'mean_thm'], axis=1)\n",
    "\n",
    "models = [\n",
    "    SummaryClassifier(random_state=2025),\n",
    "    KNeighborsTimeSeriesClassifier(n_neighbors=5, distance=\"dtw\"),\n",
    "    #TemporalDictionaryEnsemble(n_parameter_samples=10, max_ensemble_size=3, randomly_selected_params=5, random_state=2025),\n",
    "    #InceptionTimeClassifier(n_epochs=10, batch_size=32, random_state=2025),\n",
    "    RocketClassifier(num_kernels=5000, rocket_transform=\"minirocket\", random_state=2025),\n",
    "    CanonicalIntervalForest(n_estimators=20, min_interval=10, att_subsample_size=8, random_state=2025)\n",
    "]\n",
    "\n",
    "results = []\n",
    "\n",
    "for model in models:\n",
    "    \n",
    "    model_name = model.__class__.__name__\n",
    "    print(f\"Training {model_name}...\")\n",
    "    \n",
    "    start_time = time.time()\n",
    "\n",
    "    trained_model, y_pred, f1 = pred_and_score(model, df_X_IMU, df_y_encoded, df_y)\n",
    "\n",
    "    duration = time.time() - start_time\n",
    "\n",
    "    results.append({\n",
    "        \"model\": model_name,\n",
    "        \"f1_score\": f1,\n",
    "        \"y_pred\": y_pred,\n",
    "        \"time_sec\": duration\n",
    "    })\n",
    "\n",
    "    # Save model\n",
    "    joblib.dump(trained_model, model_name + '_imu_data.pkl')\n",
    "    \n",
    "    print(f\"{model_name} finished in {duration:.2f} seconds with F1 score = {f1:.4f}\")\n",
    "    print()\n",
    "\n",
    "# Transform results to a Dataframe\n",
    "df_X_meta_IMU = results_to_df(results, 'base_models_proba_IMU_only.csv')"
   ]
  },
  {
   "cell_type": "markdown",
   "id": "5bfdba98",
   "metadata": {
    "papermill": {
     "duration": 0.008162,
     "end_time": "2025-07-10T20:49:59.001609",
     "exception": false,
     "start_time": "2025-07-10T20:49:58.993447",
     "status": "completed"
    },
    "tags": []
   },
   "source": [
    "# 4. Meta stacking model"
   ]
  },
  {
   "cell_type": "code",
   "execution_count": 21,
   "id": "040b5b96",
   "metadata": {
    "execution": {
     "iopub.execute_input": "2025-07-10T20:49:59.021074Z",
     "iopub.status.busy": "2025-07-10T20:49:59.020765Z",
     "iopub.status.idle": "2025-07-10T20:50:34.138033Z",
     "shell.execute_reply": "2025-07-10T20:50:34.137122Z"
    },
    "papermill": {
     "duration": 35.136588,
     "end_time": "2025-07-10T20:50:34.146949",
     "exception": false,
     "start_time": "2025-07-10T20:49:59.010361",
     "status": "completed"
    },
    "tags": []
   },
   "outputs": [
    {
     "name": "stdout",
     "output_type": "stream",
     "text": [
      "F1 score on all data: 0.7879693039077917\n",
      "F1 score on IMU data: 0.7387923136996528\n"
     ]
    }
   ],
   "source": [
    "import xgboost as xgb\n",
    "\n",
    "param_grid = {\n",
    "    'max_depth': [5],\n",
    "    'learning_rate': [0.1],\n",
    "    'n_estimators': [1000],\n",
    "    'enable_categorical': [True],\n",
    "    'num_class': [18]\n",
    "}\n",
    "\n",
    "xgb_clf = xgb.XGBClassifier(*param_grid)\n",
    "\n",
    "_, y_pred, f1 = pred_and_score(xgb_clf, df_X_meta_all, df_y_encoded, df_y)\n",
    "print(f'F1 score on all data: {f1}')\n",
    "\n",
    "_, y_pred, f1 = pred_and_score(xgb_clf, df_X_meta_IMU, df_y_encoded, df_y)\n",
    "print(f'F1 score on IMU data: {f1}')"
   ]
  },
  {
   "cell_type": "code",
   "execution_count": 22,
   "id": "3e46140d",
   "metadata": {
    "execution": {
     "iopub.execute_input": "2025-07-10T20:50:34.165129Z",
     "iopub.status.busy": "2025-07-10T20:50:34.164777Z",
     "iopub.status.idle": "2025-07-10T20:50:44.794164Z",
     "shell.execute_reply": "2025-07-10T20:50:44.792473Z"
    },
    "papermill": {
     "duration": 10.640766,
     "end_time": "2025-07-10T20:50:44.796081",
     "exception": false,
     "start_time": "2025-07-10T20:50:34.155315",
     "status": "completed"
    },
    "tags": []
   },
   "outputs": [
    {
     "name": "stdout",
     "output_type": "stream",
     "text": [
      "F1 score on all data: 0.7959059009938888\n",
      "F1 score on IMU data: 0.7494822939645888\n"
     ]
    }
   ],
   "source": [
    "from sklearn.linear_model import LogisticRegression\n",
    "\n",
    "lr_clf = LogisticRegression(C=1)\n",
    "\n",
    "_, y_pred, f1 = pred_and_score(lr_clf, df_X_meta_all, df_y_encoded, df_y)\n",
    "print(f'F1 score on all data: {f1}')\n",
    "\n",
    "_, y_pred, f1 = pred_and_score(lr_clf, df_X_meta_IMU, df_y_encoded, df_y)\n",
    "print(f'F1 score on IMU data: {f1}')"
   ]
  },
  {
   "cell_type": "code",
   "execution_count": 23,
   "id": "983aa083",
   "metadata": {
    "execution": {
     "iopub.execute_input": "2025-07-10T20:50:44.826702Z",
     "iopub.status.busy": "2025-07-10T20:50:44.826346Z",
     "iopub.status.idle": "2025-07-10T20:51:06.843315Z",
     "shell.execute_reply": "2025-07-10T20:51:06.842117Z"
    },
    "papermill": {
     "duration": 22.034067,
     "end_time": "2025-07-10T20:51:06.844759",
     "exception": false,
     "start_time": "2025-07-10T20:50:44.810692",
     "status": "completed"
    },
    "tags": []
   },
   "outputs": [
    {
     "name": "stdout",
     "output_type": "stream",
     "text": [
      "F1 score on all data: 0.7900787383451658\n",
      "F1 score on IMU data: 0.7416685152692319\n"
     ]
    }
   ],
   "source": [
    "from sklearn.svm import SVC\n",
    "\n",
    "svc_clf = SVC()\n",
    "\n",
    "y_pred, f1 = pred_hard_and_score(svc_clf, df_X_meta_all, df_y_encoded, df_y)\n",
    "print(f'F1 score on all data: {f1}')\n",
    "\n",
    "y_pred, f1 = pred_hard_and_score(svc_clf, df_X_meta_IMU, df_y_encoded, df_y)\n",
    "print(f'F1 score on IMU data: {f1}')"
   ]
  },
  {
   "cell_type": "markdown",
   "id": "499a88df",
   "metadata": {
    "papermill": {
     "duration": 0.008162,
     "end_time": "2025-07-10T20:51:06.861833",
     "exception": false,
     "start_time": "2025-07-10T20:51:06.853671",
     "status": "completed"
    },
    "tags": []
   },
   "source": [
    "# 5. Save y data"
   ]
  },
  {
   "cell_type": "code",
   "execution_count": 24,
   "id": "7cd64c53",
   "metadata": {
    "execution": {
     "iopub.execute_input": "2025-07-10T20:51:06.880184Z",
     "iopub.status.busy": "2025-07-10T20:51:06.879777Z",
     "iopub.status.idle": "2025-07-10T20:51:06.924157Z",
     "shell.execute_reply": "2025-07-10T20:51:06.923239Z"
    },
    "papermill": {
     "duration": 0.055226,
     "end_time": "2025-07-10T20:51:06.925624",
     "exception": false,
     "start_time": "2025-07-10T20:51:06.870398",
     "status": "completed"
    },
    "tags": []
   },
   "outputs": [
    {
     "data": {
      "text/plain": [
       "['preprocessor.pkl']"
      ]
     },
     "execution_count": 24,
     "metadata": {},
     "output_type": "execute_result"
    }
   ],
   "source": [
    "joblib.dump(encoder_gesture, 'encoder_gesture.pkl')\n",
    "\n",
    "df_y.to_csv('df_y.csv')\n",
    "df_y_encoded.to_csv('df_y_encoded.csv')\n",
    "\n",
    "joblib.dump(preprocessor, 'preprocessor.pkl')"
   ]
  }
 ],
 "metadata": {
  "kaggle": {
   "accelerator": "none",
   "dataSources": [
    {
     "databundleVersionId": 12518947,
     "isSourceIdPinned": false,
     "sourceId": 102335,
     "sourceType": "competition"
    },
    {
     "sourceId": 242561727,
     "sourceType": "kernelVersion"
    },
    {
     "sourceId": 248455010,
     "sourceType": "kernelVersion"
    },
    {
     "sourceId": 249430767,
     "sourceType": "kernelVersion"
    }
   ],
   "dockerImageVersionId": 31040,
   "isGpuEnabled": false,
   "isInternetEnabled": false,
   "language": "python",
   "sourceType": "notebook"
  },
  "kernelspec": {
   "display_name": "Python 3",
   "language": "python",
   "name": "python3"
  },
  "language_info": {
   "codemirror_mode": {
    "name": "ipython",
    "version": 3
   },
   "file_extension": ".py",
   "mimetype": "text/x-python",
   "name": "python",
   "nbconvert_exporter": "python",
   "pygments_lexer": "ipython3",
   "version": "3.11.11"
  },
  "papermill": {
   "default_parameters": {},
   "duration": 29761.580446,
   "end_time": "2025-07-10T20:51:09.792359",
   "environment_variables": {},
   "exception": null,
   "input_path": "__notebook__.ipynb",
   "output_path": "__notebook__.ipynb",
   "parameters": {},
   "start_time": "2025-07-10T12:35:08.211913",
   "version": "2.6.0"
  }
 },
 "nbformat": 4,
 "nbformat_minor": 5
}
