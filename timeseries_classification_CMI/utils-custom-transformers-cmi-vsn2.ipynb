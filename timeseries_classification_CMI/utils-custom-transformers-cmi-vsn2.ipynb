{
 "cells": [
  {
   "cell_type": "markdown",
   "id": "9480ce90",
   "metadata": {
    "papermill": {
     "duration": 0.004425,
     "end_time": "2025-07-08T14:16:16.066810",
     "exception": false,
     "start_time": "2025-07-08T14:16:16.062385",
     "status": "completed"
    },
    "tags": []
   },
   "source": [
    "# Imports"
   ]
  },
  {
   "cell_type": "code",
   "execution_count": 1,
   "id": "00572d8a",
   "metadata": {
    "collapsed": true,
    "execution": {
     "iopub.execute_input": "2025-07-08T14:16:16.076049Z",
     "iopub.status.busy": "2025-07-08T14:16:16.075715Z",
     "iopub.status.idle": "2025-07-08T14:16:38.567092Z",
     "shell.execute_reply": "2025-07-08T14:16:38.565657Z"
    },
    "jupyter": {
     "outputs_hidden": true
    },
    "papermill": {
     "duration": 22.498383,
     "end_time": "2025-07-08T14:16:38.569085",
     "exception": false,
     "start_time": "2025-07-08T14:16:16.070702",
     "status": "completed"
    },
    "tags": []
   },
   "outputs": [
    {
     "name": "stdout",
     "output_type": "stream",
     "text": [
      "Processing /kaggle/input/pip-install-dependencies-cmi/scikit_base-0.12.3-py3-none-any.whl\r\n",
      "Installing collected packages: scikit-base\r\n",
      "Successfully installed scikit-base-0.12.3\r\n",
      "Processing /kaggle/input/pip-install-dependencies-cmi/scikit_learn-1.7.0-cp311-cp311-manylinux_2_17_x86_64.manylinux2014_x86_64.whl\r\n",
      "Requirement already satisfied: numpy>=1.22.0 in /usr/local/lib/python3.11/dist-packages (from scikit-learn==1.7.0) (1.26.4)\r\n",
      "Requirement already satisfied: scipy>=1.8.0 in /usr/local/lib/python3.11/dist-packages (from scikit-learn==1.7.0) (1.15.2)\r\n",
      "Requirement already satisfied: joblib>=1.2.0 in /usr/local/lib/python3.11/dist-packages (from scikit-learn==1.7.0) (1.5.0)\r\n",
      "Requirement already satisfied: threadpoolctl>=3.1.0 in /usr/local/lib/python3.11/dist-packages (from scikit-learn==1.7.0) (3.6.0)\r\n",
      "Requirement already satisfied: mkl_fft in /usr/local/lib/python3.11/dist-packages (from numpy>=1.22.0->scikit-learn==1.7.0) (1.3.8)\r\n",
      "Requirement already satisfied: mkl_random in /usr/local/lib/python3.11/dist-packages (from numpy>=1.22.0->scikit-learn==1.7.0) (1.2.4)\r\n",
      "Requirement already satisfied: mkl_umath in /usr/local/lib/python3.11/dist-packages (from numpy>=1.22.0->scikit-learn==1.7.0) (0.1.1)\r\n",
      "Requirement already satisfied: mkl in /usr/local/lib/python3.11/dist-packages (from numpy>=1.22.0->scikit-learn==1.7.0) (2025.1.0)\r\n",
      "Requirement already satisfied: tbb4py in /usr/local/lib/python3.11/dist-packages (from numpy>=1.22.0->scikit-learn==1.7.0) (2022.1.0)\r\n",
      "Requirement already satisfied: mkl-service in /usr/local/lib/python3.11/dist-packages (from numpy>=1.22.0->scikit-learn==1.7.0) (2.4.1)\r\n",
      "Requirement already satisfied: intel-openmp<2026,>=2024 in /usr/local/lib/python3.11/dist-packages (from mkl->numpy>=1.22.0->scikit-learn==1.7.0) (2024.2.0)\r\n",
      "Requirement already satisfied: tbb==2022.* in /usr/local/lib/python3.11/dist-packages (from mkl->numpy>=1.22.0->scikit-learn==1.7.0) (2022.1.0)\r\n",
      "Requirement already satisfied: tcmlib==1.* in /usr/local/lib/python3.11/dist-packages (from tbb==2022.*->mkl->numpy>=1.22.0->scikit-learn==1.7.0) (1.3.0)\r\n",
      "Requirement already satisfied: intel-cmplr-lib-rt in /usr/local/lib/python3.11/dist-packages (from mkl_umath->numpy>=1.22.0->scikit-learn==1.7.0) (2024.2.0)\r\n",
      "Requirement already satisfied: intel-cmplr-lib-ur==2024.2.0 in /usr/local/lib/python3.11/dist-packages (from intel-openmp<2026,>=2024->mkl->numpy>=1.22.0->scikit-learn==1.7.0) (2024.2.0)\r\n",
      "Installing collected packages: scikit-learn\r\n",
      "  Attempting uninstall: scikit-learn\r\n",
      "    Found existing installation: scikit-learn 1.2.2\r\n",
      "    Uninstalling scikit-learn-1.2.2:\r\n",
      "      Successfully uninstalled scikit-learn-1.2.2\r\n",
      "\u001b[31mERROR: pip's dependency resolver does not currently take into account all the packages that are installed. This behaviour is the source of the following dependency conflicts.\r\n",
      "category-encoders 2.7.0 requires scikit-learn<1.6.0,>=1.0.0, but you have scikit-learn 1.7.0 which is incompatible.\r\n",
      "cesium 0.12.4 requires numpy<3.0,>=2.0, but you have numpy 1.26.4 which is incompatible.\r\n",
      "sklearn-compat 0.1.3 requires scikit-learn<1.7,>=1.2, but you have scikit-learn 1.7.0 which is incompatible.\u001b[0m\u001b[31m\r\n",
      "\u001b[0mSuccessfully installed scikit-learn-1.7.0\r\n",
      "Processing /kaggle/input/pip-install-dependencies-cmi/sktime-0.38.1-py3-none-any.whl\r\n",
      "Requirement already satisfied: joblib<1.6,>=1.2.0 in /usr/local/lib/python3.11/dist-packages (from sktime==0.38.1) (1.5.0)\r\n",
      "Requirement already satisfied: numpy<2.4,>=1.21 in /usr/local/lib/python3.11/dist-packages (from sktime==0.38.1) (1.26.4)\r\n",
      "Requirement already satisfied: packaging in /usr/local/lib/python3.11/dist-packages (from sktime==0.38.1) (25.0)\r\n",
      "Requirement already satisfied: pandas<2.4.0,>=1.1 in /usr/local/lib/python3.11/dist-packages (from sktime==0.38.1) (2.2.3)\r\n",
      "Requirement already satisfied: scikit-base<0.13.0,>=0.6.1 in /usr/local/lib/python3.11/dist-packages (from sktime==0.38.1) (0.12.3)\r\n",
      "Requirement already satisfied: scikit-learn<1.8.0,>=0.24 in /usr/local/lib/python3.11/dist-packages (from sktime==0.38.1) (1.7.0)\r\n",
      "Requirement already satisfied: scipy<2.0.0,>=1.2 in /usr/local/lib/python3.11/dist-packages (from sktime==0.38.1) (1.15.2)\r\n",
      "Requirement already satisfied: mkl_fft in /usr/local/lib/python3.11/dist-packages (from numpy<2.4,>=1.21->sktime==0.38.1) (1.3.8)\r\n",
      "Requirement already satisfied: mkl_random in /usr/local/lib/python3.11/dist-packages (from numpy<2.4,>=1.21->sktime==0.38.1) (1.2.4)\r\n",
      "Requirement already satisfied: mkl_umath in /usr/local/lib/python3.11/dist-packages (from numpy<2.4,>=1.21->sktime==0.38.1) (0.1.1)\r\n",
      "Requirement already satisfied: mkl in /usr/local/lib/python3.11/dist-packages (from numpy<2.4,>=1.21->sktime==0.38.1) (2025.1.0)\r\n",
      "Requirement already satisfied: tbb4py in /usr/local/lib/python3.11/dist-packages (from numpy<2.4,>=1.21->sktime==0.38.1) (2022.1.0)\r\n",
      "Requirement already satisfied: mkl-service in /usr/local/lib/python3.11/dist-packages (from numpy<2.4,>=1.21->sktime==0.38.1) (2.4.1)\r\n",
      "Requirement already satisfied: python-dateutil>=2.8.2 in /usr/local/lib/python3.11/dist-packages (from pandas<2.4.0,>=1.1->sktime==0.38.1) (2.9.0.post0)\r\n",
      "Requirement already satisfied: pytz>=2020.1 in /usr/local/lib/python3.11/dist-packages (from pandas<2.4.0,>=1.1->sktime==0.38.1) (2025.2)\r\n",
      "Requirement already satisfied: tzdata>=2022.7 in /usr/local/lib/python3.11/dist-packages (from pandas<2.4.0,>=1.1->sktime==0.38.1) (2025.2)\r\n",
      "Requirement already satisfied: threadpoolctl>=3.1.0 in /usr/local/lib/python3.11/dist-packages (from scikit-learn<1.8.0,>=0.24->sktime==0.38.1) (3.6.0)\r\n",
      "Requirement already satisfied: six>=1.5 in /usr/local/lib/python3.11/dist-packages (from python-dateutil>=2.8.2->pandas<2.4.0,>=1.1->sktime==0.38.1) (1.17.0)\r\n",
      "Requirement already satisfied: intel-openmp<2026,>=2024 in /usr/local/lib/python3.11/dist-packages (from mkl->numpy<2.4,>=1.21->sktime==0.38.1) (2024.2.0)\r\n",
      "Requirement already satisfied: tbb==2022.* in /usr/local/lib/python3.11/dist-packages (from mkl->numpy<2.4,>=1.21->sktime==0.38.1) (2022.1.0)\r\n",
      "Requirement already satisfied: tcmlib==1.* in /usr/local/lib/python3.11/dist-packages (from tbb==2022.*->mkl->numpy<2.4,>=1.21->sktime==0.38.1) (1.3.0)\r\n",
      "Requirement already satisfied: intel-cmplr-lib-rt in /usr/local/lib/python3.11/dist-packages (from mkl_umath->numpy<2.4,>=1.21->sktime==0.38.1) (2024.2.0)\r\n",
      "Requirement already satisfied: intel-cmplr-lib-ur==2024.2.0 in /usr/local/lib/python3.11/dist-packages (from intel-openmp<2026,>=2024->mkl->numpy<2.4,>=1.21->sktime==0.38.1) (2024.2.0)\r\n",
      "Installing collected packages: sktime\r\n",
      "Successfully installed sktime-0.38.1\r\n"
     ]
    }
   ],
   "source": [
    "!pip install /kaggle/input/pip-install-dependencies-cmi/scikit_base-0.12.3-py3-none-any.whl\n",
    "!pip install /kaggle/input/pip-install-dependencies-cmi/scikit_learn-1.7.0-cp311-cp311-manylinux_2_17_x86_64.manylinux2014_x86_64.whl\n",
    "!pip install /kaggle/input/pip-install-dependencies-cmi/sktime-0.38.1-py3-none-any.whl"
   ]
  },
  {
   "cell_type": "code",
   "execution_count": 2,
   "id": "e9fe87d8",
   "metadata": {
    "_cell_guid": "b1076dfc-b9ad-4769-8c92-a6c4dae69d19",
    "_uuid": "8f2839f25d086af736a60e9eeb907d3b93b6e0e5",
    "execution": {
     "iopub.execute_input": "2025-07-08T14:16:38.579367Z",
     "iopub.status.busy": "2025-07-08T14:16:38.579021Z",
     "iopub.status.idle": "2025-07-08T14:16:45.362611Z",
     "shell.execute_reply": "2025-07-08T14:16:45.361453Z"
    },
    "papermill": {
     "duration": 6.790701,
     "end_time": "2025-07-08T14:16:45.364381",
     "exception": false,
     "start_time": "2025-07-08T14:16:38.573680",
     "status": "completed"
    },
    "tags": []
   },
   "outputs": [],
   "source": [
    "import pandas as pd\n",
    "import numpy as np\n",
    "\n",
    "from sklearn.base import BaseEstimator, TransformerMixin\n",
    "from sktime.transformations.panel.catch22 import Catch22\n",
    "from sktime.transformations.series.summarize import SummaryTransformer"
   ]
  },
  {
   "cell_type": "markdown",
   "id": "c24e1173",
   "metadata": {
    "papermill": {
     "duration": 0.003901,
     "end_time": "2025-07-08T14:16:45.373183",
     "exception": false,
     "start_time": "2025-07-08T14:16:45.369282",
     "status": "completed"
    },
    "tags": []
   },
   "source": [
    "# Define custom transformers"
   ]
  },
  {
   "cell_type": "code",
   "execution_count": 3,
   "id": "32650017",
   "metadata": {
    "execution": {
     "iopub.execute_input": "2025-07-08T14:16:45.383856Z",
     "iopub.status.busy": "2025-07-08T14:16:45.383287Z",
     "iopub.status.idle": "2025-07-08T14:16:45.389601Z",
     "shell.execute_reply": "2025-07-08T14:16:45.388641Z"
    },
    "papermill": {
     "duration": 0.013786,
     "end_time": "2025-07-08T14:16:45.391188",
     "exception": false,
     "start_time": "2025-07-08T14:16:45.377402",
     "status": "completed"
    },
    "tags": []
   },
   "outputs": [],
   "source": [
    "class DataCleaner(BaseEstimator, TransformerMixin):\n",
    "    def __init__(self):\n",
    "        pass\n",
    "\n",
    "    def fit(self, X, y=None):\n",
    "        return self\n",
    "\n",
    "    def transform(self, X):\n",
    "        X_copy = X.copy()\n",
    "        X_copy = X_copy.replace(-1, np.nan)\n",
    "        return X_copy"
   ]
  },
  {
   "cell_type": "code",
   "execution_count": 4,
   "id": "a6acaf93",
   "metadata": {
    "execution": {
     "iopub.execute_input": "2025-07-08T14:16:45.400843Z",
     "iopub.status.busy": "2025-07-08T14:16:45.400442Z",
     "iopub.status.idle": "2025-07-08T14:16:45.407033Z",
     "shell.execute_reply": "2025-07-08T14:16:45.405985Z"
    },
    "papermill": {
     "duration": 0.013538,
     "end_time": "2025-07-08T14:16:45.408944",
     "exception": false,
     "start_time": "2025-07-08T14:16:45.395406",
     "status": "completed"
    },
    "tags": []
   },
   "outputs": [],
   "source": [
    "class AverageColumnsTransformer(BaseEstimator, TransformerMixin):\n",
    "    def __init__(self, columns_to_average, new_column_name='avg_value'):\n",
    "        self.columns_to_average = columns_to_average\n",
    "        self.new_column_name = new_column_name\n",
    "\n",
    "    def fit(self, X, y=None):\n",
    "        return self\n",
    "\n",
    "    def transform(self, X):\n",
    "        X_copy = X.copy()\n",
    "        X_copy[self.new_column_name] = X_copy[self.columns_to_average].mean(axis=1)\n",
    "        return X_copy.drop(columns=self.columns_to_average)"
   ]
  },
  {
   "cell_type": "code",
   "execution_count": 5,
   "id": "8edd7088",
   "metadata": {
    "execution": {
     "iopub.execute_input": "2025-07-08T14:16:45.418808Z",
     "iopub.status.busy": "2025-07-08T14:16:45.418405Z",
     "iopub.status.idle": "2025-07-08T14:16:45.426666Z",
     "shell.execute_reply": "2025-07-08T14:16:45.425474Z"
    },
    "papermill": {
     "duration": 0.015328,
     "end_time": "2025-07-08T14:16:45.428523",
     "exception": false,
     "start_time": "2025-07-08T14:16:45.413195",
     "status": "completed"
    },
    "tags": []
   },
   "outputs": [],
   "source": [
    "class ToNestedTransformer(BaseEstimator, TransformerMixin):\n",
    "    def __init__(self, ts_cols, rows_to_keep=None, group_col='sequence_id'):\n",
    "        self.ts_cols = ts_cols\n",
    "        self.group_col = group_col\n",
    "        self.rows_to_keep = rows_to_keep # if None keep all rows\n",
    "\n",
    "    def fit(self, X, y=None):\n",
    "        return self\n",
    "\n",
    "    def transform(self, X):\n",
    "        \n",
    "        X_copy = X.copy()\n",
    "\n",
    "        if self.rows_to_keep != None:\n",
    "            # For each sequence, assign row indices counting backwards from the end\n",
    "            X_copy['row_idx'] = X_copy.groupby(self.group_col).cumcount(ascending=False)\n",
    "            # Keep only the last rows_to_keep rows per sequence\n",
    "            X_copy = X_copy[X_copy['row_idx'] < self.rows_to_keep].drop(columns=['row_idx'])\n",
    "\n",
    "        nested = (\n",
    "            X_copy.groupby(self.group_col)[self.ts_cols]\n",
    "            .apply(lambda df: pd.Series({col: pd.Series(df[col].values) for col in self.ts_cols}))\n",
    "            .reset_index()\n",
    "            .set_index(self.group_col)\n",
    "        )\n",
    "\n",
    "        return nested"
   ]
  },
  {
   "cell_type": "code",
   "execution_count": 6,
   "id": "1415438b",
   "metadata": {
    "execution": {
     "iopub.execute_input": "2025-07-08T14:16:45.438860Z",
     "iopub.status.busy": "2025-07-08T14:16:45.438384Z",
     "iopub.status.idle": "2025-07-08T14:16:45.445132Z",
     "shell.execute_reply": "2025-07-08T14:16:45.443954Z"
    },
    "papermill": {
     "duration": 0.014198,
     "end_time": "2025-07-08T14:16:45.447041",
     "exception": false,
     "start_time": "2025-07-08T14:16:45.432843",
     "status": "completed"
    },
    "tags": []
   },
   "outputs": [],
   "source": [
    "class SafeCatch22(Catch22):\n",
    "    def _transform_case(self, X, f_idx):\n",
    "        try:\n",
    "            return super()._transform_case(X, f_idx)\n",
    "        except Exception:\n",
    "            # Return array of NaNs if Catch22 fails on a series\n",
    "            return np.full((1, len(f_idx)), np.nan)"
   ]
  },
  {
   "cell_type": "code",
   "execution_count": 7,
   "id": "11126fd7",
   "metadata": {
    "execution": {
     "iopub.execute_input": "2025-07-08T14:16:45.457504Z",
     "iopub.status.busy": "2025-07-08T14:16:45.457172Z",
     "iopub.status.idle": "2025-07-08T14:16:45.463999Z",
     "shell.execute_reply": "2025-07-08T14:16:45.463012Z"
    },
    "papermill": {
     "duration": 0.013786,
     "end_time": "2025-07-08T14:16:45.465710",
     "exception": false,
     "start_time": "2025-07-08T14:16:45.451924",
     "status": "completed"
    },
    "tags": []
   },
   "outputs": [],
   "source": [
    "class TimeFeatureTransformer(BaseEstimator, TransformerMixin):\n",
    "    def __init__(self, extractor=SummaryTransformer()):\n",
    "        self.extractor = extractor\n",
    "\n",
    "    def fit(self, X, y=None):\n",
    "        return self.extractor.fit(X, y)\n",
    "\n",
    "    def transform(self, X):\n",
    "        return self.extractor.transform(X)"
   ]
  },
  {
   "cell_type": "code",
   "execution_count": 8,
   "id": "793714df",
   "metadata": {
    "execution": {
     "iopub.execute_input": "2025-07-08T14:16:45.475518Z",
     "iopub.status.busy": "2025-07-08T14:16:45.475141Z",
     "iopub.status.idle": "2025-07-08T14:16:45.481460Z",
     "shell.execute_reply": "2025-07-08T14:16:45.480431Z"
    },
    "papermill": {
     "duration": 0.013337,
     "end_time": "2025-07-08T14:16:45.483265",
     "exception": false,
     "start_time": "2025-07-08T14:16:45.469928",
     "status": "completed"
    },
    "tags": []
   },
   "outputs": [],
   "source": [
    "class AddStaticAfterFeatures(BaseEstimator, TransformerMixin):\n",
    "    def __init__(self, static_df=None, on='sequence_id'):\n",
    "        self.static_df = static_df\n",
    "        self.on = on\n",
    "\n",
    "    def fit(self, X, y=None):\n",
    "        return self\n",
    "\n",
    "    def transform(self, X):\n",
    "        X_copy = X.reset_index()\n",
    "        return X_copy.merge(self.static_df, on=self.on, how='left')"
   ]
  },
  {
   "cell_type": "code",
   "execution_count": 9,
   "id": "842875cc",
   "metadata": {
    "execution": {
     "iopub.execute_input": "2025-07-08T14:16:45.493768Z",
     "iopub.status.busy": "2025-07-08T14:16:45.493063Z",
     "iopub.status.idle": "2025-07-08T14:16:45.499457Z",
     "shell.execute_reply": "2025-07-08T14:16:45.498414Z"
    },
    "papermill": {
     "duration": 0.01315,
     "end_time": "2025-07-08T14:16:45.501166",
     "exception": false,
     "start_time": "2025-07-08T14:16:45.488016",
     "status": "completed"
    },
    "tags": []
   },
   "outputs": [],
   "source": [
    "class MergeDemographics(BaseEstimator, TransformerMixin):\n",
    "    def __init__(self, demo_df=None, on='subject'):\n",
    "        self.demo_df = demo_df\n",
    "        self.on = on\n",
    "\n",
    "    def fit(self, X, y=None, demo_df=None):\n",
    "        if demo_df is not None:\n",
    "            self.demo_df = demo_df\n",
    "        return self\n",
    "\n",
    "    def transform(self, X):\n",
    "        return X.merge(self.demo_df, on=self.on, how='left')"
   ]
  },
  {
   "cell_type": "code",
   "execution_count": 10,
   "id": "b2af1821",
   "metadata": {
    "execution": {
     "iopub.execute_input": "2025-07-08T14:16:45.512236Z",
     "iopub.status.busy": "2025-07-08T14:16:45.510716Z",
     "iopub.status.idle": "2025-07-08T14:16:45.517876Z",
     "shell.execute_reply": "2025-07-08T14:16:45.516794Z"
    },
    "papermill": {
     "duration": 0.014524,
     "end_time": "2025-07-08T14:16:45.519861",
     "exception": false,
     "start_time": "2025-07-08T14:16:45.505337",
     "status": "completed"
    },
    "tags": []
   },
   "outputs": [],
   "source": [
    "class GeneralPreprocessor(BaseEstimator, TransformerMixin):\n",
    "    def __init__(self):\n",
    "        self.num_cols = None # store numeric col names\n",
    "        self.cat_cols = None# store categorical col names\n",
    "        \n",
    "    def fit(self, X, y=None):\n",
    "        X_copy = X.copy()\n",
    "\n",
    "        # Identify column types\n",
    "        self.num_cols = X_copy.select_dtypes(include=[\"number\"]).columns.tolist()\n",
    "        self.cat_cols = X_copy.select_dtypes(include=[\"object\", \"category\"]).columns.tolist()\n",
    "        \n",
    "        return self\n",
    "\n",
    "    def transform(self, X):\n",
    "        X_copy = X.copy()\n",
    "\n",
    "        # Set dtype categorical\n",
    "        X_copy[self.cat_cols] = X_copy[self.cat_cols].astype(\"category\")\n",
    "\n",
    "        return X_copy"
   ]
  },
  {
   "cell_type": "code",
   "execution_count": 11,
   "id": "c4b54fce",
   "metadata": {
    "execution": {
     "iopub.execute_input": "2025-07-08T14:16:45.529239Z",
     "iopub.status.busy": "2025-07-08T14:16:45.528937Z",
     "iopub.status.idle": "2025-07-08T14:16:45.534997Z",
     "shell.execute_reply": "2025-07-08T14:16:45.534014Z"
    },
    "papermill": {
     "duration": 0.012625,
     "end_time": "2025-07-08T14:16:45.536653",
     "exception": false,
     "start_time": "2025-07-08T14:16:45.524028",
     "status": "completed"
    },
    "tags": []
   },
   "outputs": [],
   "source": [
    "class FeatureSelector(BaseEstimator, TransformerMixin):\n",
    "    def __init__(self, features_to_remove):\n",
    "        self.features_to_remove = features_to_remove\n",
    "\n",
    "    def fit(self, X, y=None):\n",
    "        return self\n",
    "\n",
    "    def transform(self, X):\n",
    "        X_copy = X.copy()\n",
    "        features_to_keep = [col for col in X_copy.columns if col not in self.features_to_remove]\n",
    "        return X_copy[features_to_keep]  "
   ]
  },
  {
   "cell_type": "code",
   "execution_count": 12,
   "id": "e37fdd9d",
   "metadata": {
    "execution": {
     "iopub.execute_input": "2025-07-08T14:16:45.545996Z",
     "iopub.status.busy": "2025-07-08T14:16:45.545687Z",
     "iopub.status.idle": "2025-07-08T14:16:45.552420Z",
     "shell.execute_reply": "2025-07-08T14:16:45.551368Z"
    },
    "papermill": {
     "duration": 0.013363,
     "end_time": "2025-07-08T14:16:45.554082",
     "exception": false,
     "start_time": "2025-07-08T14:16:45.540719",
     "status": "completed"
    },
    "tags": []
   },
   "outputs": [],
   "source": [
    "class TimeSeriesDataSelector(BaseEstimator, TransformerMixin):\n",
    "    def __init__(self, rows_to_keep):\n",
    "        self.rows_to_keep = rows_to_keep\n",
    "\n",
    "    def fit(self, X, y=None):\n",
    "        return self\n",
    "\n",
    "    def transform(self, X):\n",
    "        X_copy = X.copy()\n",
    "\n",
    "        # Select only the last rows of each time series (contains gesture)\n",
    "        X_copy['row_idx'] = X_copy.groupby('sequence_id').cumcount(ascending=False)\n",
    "        X_copy = X_copy[X_copy['row_idx'] < self.rows_to_keep]\n",
    "        X_copy = X_copy.drop(['row_idx'], axis=1)\n",
    "        \n",
    "        return X_copy"
   ]
  }
 ],
 "metadata": {
  "kaggle": {
   "accelerator": "none",
   "dataSources": [
    {
     "databundleVersionId": 12518947,
     "sourceId": 102335,
     "sourceType": "competition"
    },
    {
     "sourceId": 248455010,
     "sourceType": "kernelVersion"
    }
   ],
   "dockerImageVersionId": 31040,
   "isGpuEnabled": false,
   "isInternetEnabled": false,
   "language": "python",
   "sourceType": "notebook"
  },
  "kernelspec": {
   "display_name": "Python 3",
   "language": "python",
   "name": "python3"
  },
  "language_info": {
   "codemirror_mode": {
    "name": "ipython",
    "version": 3
   },
   "file_extension": ".py",
   "mimetype": "text/x-python",
   "name": "python",
   "nbconvert_exporter": "python",
   "pygments_lexer": "ipython3",
   "version": "3.11.11"
  },
  "papermill": {
   "default_parameters": {},
   "duration": 35.551291,
   "end_time": "2025-07-08T14:16:46.379804",
   "environment_variables": {},
   "exception": null,
   "input_path": "__notebook__.ipynb",
   "output_path": "__notebook__.ipynb",
   "parameters": {},
   "start_time": "2025-07-08T14:16:10.828513",
   "version": "2.6.0"
  }
 },
 "nbformat": 4,
 "nbformat_minor": 5
}
