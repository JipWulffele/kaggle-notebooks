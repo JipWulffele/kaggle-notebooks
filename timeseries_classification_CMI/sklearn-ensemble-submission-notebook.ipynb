{
 "cells": [
  {
   "cell_type": "markdown",
   "id": "3f48fce4",
   "metadata": {
    "papermill": {
     "duration": 0.005118,
     "end_time": "2025-07-11T06:15:43.228054",
     "exception": false,
     "start_time": "2025-07-11T06:15:43.222936",
     "status": "completed"
    },
    "tags": []
   },
   "source": [
    "# 1. Import everything!"
   ]
  },
  {
   "cell_type": "code",
   "execution_count": 1,
   "id": "a00875e4",
   "metadata": {
    "execution": {
     "iopub.execute_input": "2025-07-11T06:15:43.237163Z",
     "iopub.status.busy": "2025-07-11T06:15:43.236841Z",
     "iopub.status.idle": "2025-07-11T06:15:43.244076Z",
     "shell.execute_reply": "2025-07-11T06:15:43.243154Z"
    },
    "papermill": {
     "duration": 0.013338,
     "end_time": "2025-07-11T06:15:43.245574",
     "exception": false,
     "start_time": "2025-07-11T06:15:43.232236",
     "status": "completed"
    },
    "tags": []
   },
   "outputs": [],
   "source": [
    "# Hyper parameters\n",
    "\n",
    "CV=5"
   ]
  },
  {
   "cell_type": "markdown",
   "id": "28109716",
   "metadata": {
    "papermill": {
     "duration": 0.003391,
     "end_time": "2025-07-11T06:15:43.252897",
     "exception": false,
     "start_time": "2025-07-11T06:15:43.249506",
     "status": "completed"
    },
    "tags": []
   },
   "source": [
    "## 1.1 Liberaries"
   ]
  },
  {
   "cell_type": "code",
   "execution_count": 2,
   "id": "4f7461ef",
   "metadata": {
    "execution": {
     "iopub.execute_input": "2025-07-11T06:15:43.262120Z",
     "iopub.status.busy": "2025-07-11T06:15:43.261806Z",
     "iopub.status.idle": "2025-07-11T06:15:48.098610Z",
     "shell.execute_reply": "2025-07-11T06:15:48.097659Z"
    },
    "papermill": {
     "duration": 4.843546,
     "end_time": "2025-07-11T06:15:48.100569",
     "exception": false,
     "start_time": "2025-07-11T06:15:43.257023",
     "status": "completed"
    },
    "tags": []
   },
   "outputs": [],
   "source": [
    "import os\n",
    "\n",
    "import pandas as pd\n",
    "pd.options.display.max_columns = 100\n",
    "\n",
    "import numpy as np\n",
    "import matplotlib.pyplot as plt\n",
    "import seaborn as sns\n",
    "import polars as pl\n",
    "\n",
    "import warnings\n",
    "warnings.simplefilter(action='ignore', category=FutureWarning)\n",
    "warnings.filterwarnings(\"ignore\", category=RuntimeWarning)\n",
    "\n",
    "import sys\n",
    "sys.path.append('../Data/cmi-detect-behavior-with-sensor-data')\n",
    "\n",
    "import kaggle_evaluation.cmi_inference_server"
   ]
  },
  {
   "cell_type": "code",
   "execution_count": 3,
   "id": "e1c8eb6f",
   "metadata": {
    "execution": {
     "iopub.execute_input": "2025-07-11T06:15:48.110400Z",
     "iopub.status.busy": "2025-07-11T06:15:48.109616Z",
     "iopub.status.idle": "2025-07-11T06:16:08.696517Z",
     "shell.execute_reply": "2025-07-11T06:16:08.695348Z"
    },
    "papermill": {
     "duration": 20.593865,
     "end_time": "2025-07-11T06:16:08.698502",
     "exception": false,
     "start_time": "2025-07-11T06:15:48.104637",
     "status": "completed"
    },
    "tags": []
   },
   "outputs": [
    {
     "name": "stdout",
     "output_type": "stream",
     "text": [
      "Processing /kaggle/input/pip-install-dependencies-cmi/scikit_base-0.12.3-py3-none-any.whl\r\n",
      "Installing collected packages: scikit-base\r\n",
      "Successfully installed scikit-base-0.12.3\r\n",
      "Processing /kaggle/input/pip-install-dependencies-cmi/scikit_learn-1.7.0-cp311-cp311-manylinux_2_17_x86_64.manylinux2014_x86_64.whl\r\n",
      "Requirement already satisfied: numpy>=1.22.0 in /usr/local/lib/python3.11/dist-packages (from scikit-learn==1.7.0) (1.26.4)\r\n",
      "Requirement already satisfied: scipy>=1.8.0 in /usr/local/lib/python3.11/dist-packages (from scikit-learn==1.7.0) (1.15.2)\r\n",
      "Requirement already satisfied: joblib>=1.2.0 in /usr/local/lib/python3.11/dist-packages (from scikit-learn==1.7.0) (1.5.0)\r\n",
      "Requirement already satisfied: threadpoolctl>=3.1.0 in /usr/local/lib/python3.11/dist-packages (from scikit-learn==1.7.0) (3.6.0)\r\n",
      "Requirement already satisfied: mkl_fft in /usr/local/lib/python3.11/dist-packages (from numpy>=1.22.0->scikit-learn==1.7.0) (1.3.8)\r\n",
      "Requirement already satisfied: mkl_random in /usr/local/lib/python3.11/dist-packages (from numpy>=1.22.0->scikit-learn==1.7.0) (1.2.4)\r\n",
      "Requirement already satisfied: mkl_umath in /usr/local/lib/python3.11/dist-packages (from numpy>=1.22.0->scikit-learn==1.7.0) (0.1.1)\r\n",
      "Requirement already satisfied: mkl in /usr/local/lib/python3.11/dist-packages (from numpy>=1.22.0->scikit-learn==1.7.0) (2025.1.0)\r\n",
      "Requirement already satisfied: tbb4py in /usr/local/lib/python3.11/dist-packages (from numpy>=1.22.0->scikit-learn==1.7.0) (2022.1.0)\r\n",
      "Requirement already satisfied: mkl-service in /usr/local/lib/python3.11/dist-packages (from numpy>=1.22.0->scikit-learn==1.7.0) (2.4.1)\r\n",
      "Requirement already satisfied: intel-openmp<2026,>=2024 in /usr/local/lib/python3.11/dist-packages (from mkl->numpy>=1.22.0->scikit-learn==1.7.0) (2024.2.0)\r\n",
      "Requirement already satisfied: tbb==2022.* in /usr/local/lib/python3.11/dist-packages (from mkl->numpy>=1.22.0->scikit-learn==1.7.0) (2022.1.0)\r\n",
      "Requirement already satisfied: tcmlib==1.* in /usr/local/lib/python3.11/dist-packages (from tbb==2022.*->mkl->numpy>=1.22.0->scikit-learn==1.7.0) (1.3.0)\r\n",
      "Requirement already satisfied: intel-cmplr-lib-rt in /usr/local/lib/python3.11/dist-packages (from mkl_umath->numpy>=1.22.0->scikit-learn==1.7.0) (2024.2.0)\r\n",
      "Requirement already satisfied: intel-cmplr-lib-ur==2024.2.0 in /usr/local/lib/python3.11/dist-packages (from intel-openmp<2026,>=2024->mkl->numpy>=1.22.0->scikit-learn==1.7.0) (2024.2.0)\r\n",
      "Installing collected packages: scikit-learn\r\n",
      "  Attempting uninstall: scikit-learn\r\n",
      "    Found existing installation: scikit-learn 1.2.2\r\n",
      "    Uninstalling scikit-learn-1.2.2:\r\n",
      "      Successfully uninstalled scikit-learn-1.2.2\r\n",
      "\u001b[31mERROR: pip's dependency resolver does not currently take into account all the packages that are installed. This behaviour is the source of the following dependency conflicts.\r\n",
      "category-encoders 2.7.0 requires scikit-learn<1.6.0,>=1.0.0, but you have scikit-learn 1.7.0 which is incompatible.\r\n",
      "cesium 0.12.4 requires numpy<3.0,>=2.0, but you have numpy 1.26.4 which is incompatible.\r\n",
      "sklearn-compat 0.1.3 requires scikit-learn<1.7,>=1.2, but you have scikit-learn 1.7.0 which is incompatible.\u001b[0m\u001b[31m\r\n",
      "\u001b[0mSuccessfully installed scikit-learn-1.7.0\r\n",
      "Processing /kaggle/input/pip-install-dependencies-cmi/sktime-0.38.1-py3-none-any.whl\r\n",
      "Requirement already satisfied: joblib<1.6,>=1.2.0 in /usr/local/lib/python3.11/dist-packages (from sktime==0.38.1) (1.5.0)\r\n",
      "Requirement already satisfied: numpy<2.4,>=1.21 in /usr/local/lib/python3.11/dist-packages (from sktime==0.38.1) (1.26.4)\r\n",
      "Requirement already satisfied: packaging in /usr/local/lib/python3.11/dist-packages (from sktime==0.38.1) (25.0)\r\n",
      "Requirement already satisfied: pandas<2.4.0,>=1.1 in /usr/local/lib/python3.11/dist-packages (from sktime==0.38.1) (2.2.3)\r\n",
      "Requirement already satisfied: scikit-base<0.13.0,>=0.6.1 in /usr/local/lib/python3.11/dist-packages (from sktime==0.38.1) (0.12.3)\r\n",
      "Requirement already satisfied: scikit-learn<1.8.0,>=0.24 in /usr/local/lib/python3.11/dist-packages (from sktime==0.38.1) (1.7.0)\r\n",
      "Requirement already satisfied: scipy<2.0.0,>=1.2 in /usr/local/lib/python3.11/dist-packages (from sktime==0.38.1) (1.15.2)\r\n",
      "Requirement already satisfied: mkl_fft in /usr/local/lib/python3.11/dist-packages (from numpy<2.4,>=1.21->sktime==0.38.1) (1.3.8)\r\n",
      "Requirement already satisfied: mkl_random in /usr/local/lib/python3.11/dist-packages (from numpy<2.4,>=1.21->sktime==0.38.1) (1.2.4)\r\n",
      "Requirement already satisfied: mkl_umath in /usr/local/lib/python3.11/dist-packages (from numpy<2.4,>=1.21->sktime==0.38.1) (0.1.1)\r\n",
      "Requirement already satisfied: mkl in /usr/local/lib/python3.11/dist-packages (from numpy<2.4,>=1.21->sktime==0.38.1) (2025.1.0)\r\n",
      "Requirement already satisfied: tbb4py in /usr/local/lib/python3.11/dist-packages (from numpy<2.4,>=1.21->sktime==0.38.1) (2022.1.0)\r\n",
      "Requirement already satisfied: mkl-service in /usr/local/lib/python3.11/dist-packages (from numpy<2.4,>=1.21->sktime==0.38.1) (2.4.1)\r\n",
      "Requirement already satisfied: python-dateutil>=2.8.2 in /usr/local/lib/python3.11/dist-packages (from pandas<2.4.0,>=1.1->sktime==0.38.1) (2.9.0.post0)\r\n",
      "Requirement already satisfied: pytz>=2020.1 in /usr/local/lib/python3.11/dist-packages (from pandas<2.4.0,>=1.1->sktime==0.38.1) (2025.2)\r\n",
      "Requirement already satisfied: tzdata>=2022.7 in /usr/local/lib/python3.11/dist-packages (from pandas<2.4.0,>=1.1->sktime==0.38.1) (2025.2)\r\n",
      "Requirement already satisfied: threadpoolctl>=3.1.0 in /usr/local/lib/python3.11/dist-packages (from scikit-learn<1.8.0,>=0.24->sktime==0.38.1) (3.6.0)\r\n",
      "Requirement already satisfied: six>=1.5 in /usr/local/lib/python3.11/dist-packages (from python-dateutil>=2.8.2->pandas<2.4.0,>=1.1->sktime==0.38.1) (1.17.0)\r\n",
      "Requirement already satisfied: intel-openmp<2026,>=2024 in /usr/local/lib/python3.11/dist-packages (from mkl->numpy<2.4,>=1.21->sktime==0.38.1) (2024.2.0)\r\n",
      "Requirement already satisfied: tbb==2022.* in /usr/local/lib/python3.11/dist-packages (from mkl->numpy<2.4,>=1.21->sktime==0.38.1) (2022.1.0)\r\n",
      "Requirement already satisfied: tcmlib==1.* in /usr/local/lib/python3.11/dist-packages (from tbb==2022.*->mkl->numpy<2.4,>=1.21->sktime==0.38.1) (1.3.0)\r\n",
      "Requirement already satisfied: intel-cmplr-lib-rt in /usr/local/lib/python3.11/dist-packages (from mkl_umath->numpy<2.4,>=1.21->sktime==0.38.1) (2024.2.0)\r\n",
      "Requirement already satisfied: intel-cmplr-lib-ur==2024.2.0 in /usr/local/lib/python3.11/dist-packages (from intel-openmp<2026,>=2024->mkl->numpy<2.4,>=1.21->sktime==0.38.1) (2024.2.0)\r\n",
      "Installing collected packages: sktime\r\n",
      "Successfully installed sktime-0.38.1\r\n"
     ]
    }
   ],
   "source": [
    "!pip install /kaggle/input/pip-install-dependencies-cmi/scikit_base-0.12.3-py3-none-any.whl\n",
    "!pip install /kaggle/input/pip-install-dependencies-cmi/scikit_learn-1.7.0-cp311-cp311-manylinux_2_17_x86_64.manylinux2014_x86_64.whl\n",
    "!pip install /kaggle/input/pip-install-dependencies-cmi/sktime-0.38.1-py3-none-any.whl"
   ]
  },
  {
   "cell_type": "markdown",
   "id": "1cce6bcb",
   "metadata": {
    "papermill": {
     "duration": 0.004141,
     "end_time": "2025-07-11T06:16:08.707669",
     "exception": false,
     "start_time": "2025-07-11T06:16:08.703528",
     "status": "completed"
    },
    "tags": []
   },
   "source": [
    "## 1.2 Custom transformers"
   ]
  },
  {
   "cell_type": "code",
   "execution_count": 4,
   "id": "63fdc30f",
   "metadata": {
    "execution": {
     "iopub.execute_input": "2025-07-11T06:16:08.718254Z",
     "iopub.status.busy": "2025-07-11T06:16:08.717818Z",
     "iopub.status.idle": "2025-07-11T06:16:22.378645Z",
     "shell.execute_reply": "2025-07-11T06:16:22.377586Z"
    },
    "papermill": {
     "duration": 13.668229,
     "end_time": "2025-07-11T06:16:22.380267",
     "exception": false,
     "start_time": "2025-07-11T06:16:08.712038",
     "status": "completed"
    },
    "tags": []
   },
   "outputs": [
    {
     "name": "stdout",
     "output_type": "stream",
     "text": [
      "Processing /kaggle/input/pip-install-dependencies-cmi/scikit_base-0.12.3-py3-none-any.whl\r\n",
      "scikit-base is already installed with the same version as the provided wheel. Use --force-reinstall to force an installation of the wheel.\r\n",
      "Processing /kaggle/input/pip-install-dependencies-cmi/scikit_learn-1.7.0-cp311-cp311-manylinux_2_17_x86_64.manylinux2014_x86_64.whl\r\n",
      "Requirement already satisfied: numpy>=1.22.0 in /usr/local/lib/python3.11/dist-packages (from scikit-learn==1.7.0) (1.26.4)\r\n",
      "Requirement already satisfied: scipy>=1.8.0 in /usr/local/lib/python3.11/dist-packages (from scikit-learn==1.7.0) (1.15.2)\r\n",
      "Requirement already satisfied: joblib>=1.2.0 in /usr/local/lib/python3.11/dist-packages (from scikit-learn==1.7.0) (1.5.0)\r\n",
      "Requirement already satisfied: threadpoolctl>=3.1.0 in /usr/local/lib/python3.11/dist-packages (from scikit-learn==1.7.0) (3.6.0)\r\n",
      "Requirement already satisfied: mkl_fft in /usr/local/lib/python3.11/dist-packages (from numpy>=1.22.0->scikit-learn==1.7.0) (1.3.8)\r\n",
      "Requirement already satisfied: mkl_random in /usr/local/lib/python3.11/dist-packages (from numpy>=1.22.0->scikit-learn==1.7.0) (1.2.4)\r\n",
      "Requirement already satisfied: mkl_umath in /usr/local/lib/python3.11/dist-packages (from numpy>=1.22.0->scikit-learn==1.7.0) (0.1.1)\r\n",
      "Requirement already satisfied: mkl in /usr/local/lib/python3.11/dist-packages (from numpy>=1.22.0->scikit-learn==1.7.0) (2025.1.0)\r\n",
      "Requirement already satisfied: tbb4py in /usr/local/lib/python3.11/dist-packages (from numpy>=1.22.0->scikit-learn==1.7.0) (2022.1.0)\r\n",
      "Requirement already satisfied: mkl-service in /usr/local/lib/python3.11/dist-packages (from numpy>=1.22.0->scikit-learn==1.7.0) (2.4.1)\r\n",
      "Requirement already satisfied: intel-openmp<2026,>=2024 in /usr/local/lib/python3.11/dist-packages (from mkl->numpy>=1.22.0->scikit-learn==1.7.0) (2024.2.0)\r\n",
      "Requirement already satisfied: tbb==2022.* in /usr/local/lib/python3.11/dist-packages (from mkl->numpy>=1.22.0->scikit-learn==1.7.0) (2022.1.0)\r\n",
      "Requirement already satisfied: tcmlib==1.* in /usr/local/lib/python3.11/dist-packages (from tbb==2022.*->mkl->numpy>=1.22.0->scikit-learn==1.7.0) (1.3.0)\r\n",
      "Requirement already satisfied: intel-cmplr-lib-rt in /usr/local/lib/python3.11/dist-packages (from mkl_umath->numpy>=1.22.0->scikit-learn==1.7.0) (2024.2.0)\r\n",
      "Requirement already satisfied: intel-cmplr-lib-ur==2024.2.0 in /usr/local/lib/python3.11/dist-packages (from intel-openmp<2026,>=2024->mkl->numpy>=1.22.0->scikit-learn==1.7.0) (2024.2.0)\r\n",
      "scikit-learn is already installed with the same version as the provided wheel. Use --force-reinstall to force an installation of the wheel.\r\n",
      "Processing /kaggle/input/pip-install-dependencies-cmi/sktime-0.38.1-py3-none-any.whl\r\n",
      "Requirement already satisfied: joblib<1.6,>=1.2.0 in /usr/local/lib/python3.11/dist-packages (from sktime==0.38.1) (1.5.0)\r\n",
      "Requirement already satisfied: numpy<2.4,>=1.21 in /usr/local/lib/python3.11/dist-packages (from sktime==0.38.1) (1.26.4)\r\n",
      "Requirement already satisfied: packaging in /usr/local/lib/python3.11/dist-packages (from sktime==0.38.1) (25.0)\r\n",
      "Requirement already satisfied: pandas<2.4.0,>=1.1 in /usr/local/lib/python3.11/dist-packages (from sktime==0.38.1) (2.2.3)\r\n",
      "Requirement already satisfied: scikit-base<0.13.0,>=0.6.1 in /usr/local/lib/python3.11/dist-packages (from sktime==0.38.1) (0.12.3)\r\n",
      "Requirement already satisfied: scikit-learn<1.8.0,>=0.24 in /usr/local/lib/python3.11/dist-packages (from sktime==0.38.1) (1.7.0)\r\n",
      "Requirement already satisfied: scipy<2.0.0,>=1.2 in /usr/local/lib/python3.11/dist-packages (from sktime==0.38.1) (1.15.2)\r\n",
      "Requirement already satisfied: mkl_fft in /usr/local/lib/python3.11/dist-packages (from numpy<2.4,>=1.21->sktime==0.38.1) (1.3.8)\r\n",
      "Requirement already satisfied: mkl_random in /usr/local/lib/python3.11/dist-packages (from numpy<2.4,>=1.21->sktime==0.38.1) (1.2.4)\r\n",
      "Requirement already satisfied: mkl_umath in /usr/local/lib/python3.11/dist-packages (from numpy<2.4,>=1.21->sktime==0.38.1) (0.1.1)\r\n",
      "Requirement already satisfied: mkl in /usr/local/lib/python3.11/dist-packages (from numpy<2.4,>=1.21->sktime==0.38.1) (2025.1.0)\r\n",
      "Requirement already satisfied: tbb4py in /usr/local/lib/python3.11/dist-packages (from numpy<2.4,>=1.21->sktime==0.38.1) (2022.1.0)\r\n",
      "Requirement already satisfied: mkl-service in /usr/local/lib/python3.11/dist-packages (from numpy<2.4,>=1.21->sktime==0.38.1) (2.4.1)\r\n",
      "Requirement already satisfied: python-dateutil>=2.8.2 in /usr/local/lib/python3.11/dist-packages (from pandas<2.4.0,>=1.1->sktime==0.38.1) (2.9.0.post0)\r\n",
      "Requirement already satisfied: pytz>=2020.1 in /usr/local/lib/python3.11/dist-packages (from pandas<2.4.0,>=1.1->sktime==0.38.1) (2025.2)\r\n",
      "Requirement already satisfied: tzdata>=2022.7 in /usr/local/lib/python3.11/dist-packages (from pandas<2.4.0,>=1.1->sktime==0.38.1) (2025.2)\r\n",
      "Requirement already satisfied: threadpoolctl>=3.1.0 in /usr/local/lib/python3.11/dist-packages (from scikit-learn<1.8.0,>=0.24->sktime==0.38.1) (3.6.0)\r\n",
      "Requirement already satisfied: six>=1.5 in /usr/local/lib/python3.11/dist-packages (from python-dateutil>=2.8.2->pandas<2.4.0,>=1.1->sktime==0.38.1) (1.17.0)\r\n",
      "Requirement already satisfied: intel-openmp<2026,>=2024 in /usr/local/lib/python3.11/dist-packages (from mkl->numpy<2.4,>=1.21->sktime==0.38.1) (2024.2.0)\r\n",
      "Requirement already satisfied: tbb==2022.* in /usr/local/lib/python3.11/dist-packages (from mkl->numpy<2.4,>=1.21->sktime==0.38.1) (2022.1.0)\r\n",
      "Requirement already satisfied: tcmlib==1.* in /usr/local/lib/python3.11/dist-packages (from tbb==2022.*->mkl->numpy<2.4,>=1.21->sktime==0.38.1) (1.3.0)\r\n",
      "Requirement already satisfied: intel-cmplr-lib-rt in /usr/local/lib/python3.11/dist-packages (from mkl_umath->numpy<2.4,>=1.21->sktime==0.38.1) (2024.2.0)\r\n",
      "Requirement already satisfied: intel-cmplr-lib-ur==2024.2.0 in /usr/local/lib/python3.11/dist-packages (from intel-openmp<2026,>=2024->mkl->numpy<2.4,>=1.21->sktime==0.38.1) (2024.2.0)\r\n",
      "sktime is already installed with the same version as the provided wheel. Use --force-reinstall to force an installation of the wheel.\r\n"
     ]
    }
   ],
   "source": [
    "from sklearn.base import BaseEstimator, TransformerMixin\n",
    "\n",
    "from utils_custom_transformers_cmi_vsn2 import *"
   ]
  },
  {
   "cell_type": "markdown",
   "id": "323b82c0",
   "metadata": {
    "papermill": {
     "duration": 0.004725,
     "end_time": "2025-07-11T06:16:22.390335",
     "exception": false,
     "start_time": "2025-07-11T06:16:22.385610",
     "status": "completed"
    },
    "tags": []
   },
   "source": [
    "## 1.3 Load model and preprocessor"
   ]
  },
  {
   "cell_type": "code",
   "execution_count": 5,
   "id": "295c7c2c",
   "metadata": {
    "execution": {
     "iopub.execute_input": "2025-07-11T06:16:22.401766Z",
     "iopub.status.busy": "2025-07-11T06:16:22.401187Z",
     "iopub.status.idle": "2025-07-11T06:16:22.414179Z",
     "shell.execute_reply": "2025-07-11T06:16:22.413325Z"
    },
    "papermill": {
     "duration": 0.020528,
     "end_time": "2025-07-11T06:16:22.415717",
     "exception": false,
     "start_time": "2025-07-11T06:16:22.395189",
     "status": "completed"
    },
    "tags": []
   },
   "outputs": [],
   "source": [
    "from sklearn.preprocessing import StandardScaler\n",
    "\n",
    "class GeneralPreprocessor_2(BaseEstimator, TransformerMixin):\n",
    "    def __init__(self, impute_ts=False, scaler=StandardScaler(), rows_to_keep=None):\n",
    "        self.num_cols = None  # store numeric col names\n",
    "        self.cat_cols = None  # store categorical col names\n",
    "        self.ts_cols = None\n",
    "        self.impute_ts = impute_ts\n",
    "        self.scaler = scaler\n",
    "        self.rows_to_keep = rows_to_keep\n",
    "        \n",
    "    def fit(self, X, y=None):\n",
    "        X_copy = X.copy()\n",
    "\n",
    "        # Identify timeserie columns\n",
    "        self.ts_cols = [col for col in X_copy.columns if X_copy[col].apply(lambda x: isinstance(x, pd.Series)).all()]\n",
    "        \n",
    "        # Catgecorigal and numeric columns (excluding time series)\n",
    "        self.num_cols = X_copy.select_dtypes(include=[\"number\"]).columns.difference(self.ts_cols).tolist()\n",
    "        self.cat_cols = X_copy.select_dtypes(include=[\"object\", \"category\"]).columns.difference(self.ts_cols).tolist()\n",
    "\n",
    "        # Fit global scaler on all time series values (flattened)\n",
    "        if self.scaler and self.ts_cols:\n",
    "            all_values = []\n",
    "            \n",
    "            for col in self.ts_cols:  # Extract all values\n",
    "                for series in X_copy[col]:\n",
    "                    if isinstance(series, pd.Series):\n",
    "                        all_values.extend(series.values)\n",
    "\n",
    "            all_values = np.array(all_values).reshape(-1, 1)\n",
    "            self.scaler = self.scaler.fit(all_values)\n",
    "\n",
    "        return self\n",
    "\n",
    "    def transform(self, X):\n",
    "        X_copy = X.copy()\n",
    "\n",
    "        # Set dtype categorical\n",
    "        X_copy[self.cat_cols] = X_copy[self.cat_cols].astype(\"category\")\n",
    "\n",
    "        # Impute, scale and reshape time series\n",
    "        if self.ts_cols:\n",
    "            for col in self.ts_cols:\n",
    "                \n",
    "                def process_series(s):\n",
    "                    if not isinstance(s, pd.Series):\n",
    "                        return s\n",
    "\n",
    "                    # Impute if needed\n",
    "                    if self.impute_ts:\n",
    "                        if s.isna().all():\n",
    "                            s = pd.Series([0] * len(s), index=s.index)\n",
    "                        else:\n",
    "                            s = s.ffill().bfill()\n",
    "\n",
    "                    # Scale using global scaler\n",
    "                    if self.scaler:\n",
    "                        scaled_vals = self.scaler.transform(s.values.reshape(-1, 1)).flatten()\n",
    "                        s = pd.Series(scaled_vals, index=s.index)\n",
    "                    \n",
    "                    # Resize series to rows_to_keep\n",
    "                    if self.rows_to_keep is not None:\n",
    "                        length = len(s)\n",
    "                        target = self.rows_to_keep\n",
    "\n",
    "                        if length > target:\n",
    "                            # Truncate\n",
    "                            s = s.iloc[:target]\n",
    "                        elif length < target:\n",
    "                            # Pad with zeros at the end\n",
    "                            pad_size = target - length\n",
    "                            pad = pd.Series([0] * pad_size, index=range(length, target))\n",
    "                            s = pd.concat([s, pad])\n",
    "\n",
    "                    return s\n",
    "\n",
    "                X_copy[col] = X_copy[col].map(process_series)\n",
    "\n",
    "        return X_copy"
   ]
  },
  {
   "cell_type": "code",
   "execution_count": 6,
   "id": "30b74848",
   "metadata": {
    "_cell_guid": "b1076dfc-b9ad-4769-8c92-a6c4dae69d19",
    "_uuid": "8f2839f25d086af736a60e9eeb907d3b93b6e0e5",
    "execution": {
     "iopub.execute_input": "2025-07-11T06:16:22.426959Z",
     "iopub.status.busy": "2025-07-11T06:16:22.426622Z",
     "iopub.status.idle": "2025-07-11T06:16:48.212195Z",
     "shell.execute_reply": "2025-07-11T06:16:48.211233Z"
    },
    "papermill": {
     "duration": 25.793907,
     "end_time": "2025-07-11T06:16:48.214606",
     "exception": false,
     "start_time": "2025-07-11T06:16:22.420699",
     "status": "completed"
    },
    "tags": []
   },
   "outputs": [],
   "source": [
    "import joblib\n",
    "\n",
    "# Load trained base models (all data)\n",
    "model_ST_all = joblib.load('/kaggle/input/pred-broba-base-sklearn/SummaryClassifier_all_data.pkl')\n",
    "model_ST_imu = joblib.load('/kaggle/input/pred-broba-base-sklearn/SummaryClassifier_imu_data.pkl')\n",
    "\n",
    "model_CIF_all = joblib.load('/kaggle/input/pred-broba-base-sklearn/CanonicalIntervalForest_all_data.pkl')\n",
    "model_CIF_imu = joblib.load('/kaggle/input/pred-broba-base-sklearn/CanonicalIntervalForest_imu_data.pkl')\n",
    "\n",
    "model_KN_all = joblib.load('/kaggle/input/pred-broba-base-sklearn/KNeighborsTimeSeriesClassifier_all_data.pkl')\n",
    "model_KN_imu = joblib.load('/kaggle/input/pred-broba-base-sklearn/KNeighborsTimeSeriesClassifier_imu_data.pkl')\n",
    "\n",
    "model_RC_all = joblib.load('/kaggle/input/pred-broba-base-sklearn/RocketClassifier_all_data.pkl')\n",
    "model_RC_imu = joblib.load('/kaggle/input/pred-broba-base-sklearn/RocketClassifier_imu_data.pkl')\n",
    "\n",
    "# Load predictions\n",
    "pred_proba_all = pd.read_csv('/kaggle/input/pred-broba-base-sklearn/base_models_proba.csv')\n",
    "pred_proba_all = pred_proba_all.drop('Unnamed: 0', axis=1)\n",
    "pred_proba_imu = pd.read_csv('/kaggle/input/pred-broba-base-sklearn/base_models_proba_IMU_only.csv')\n",
    "pred_proba_imu = pred_proba_imu.drop('Unnamed: 0', axis=1)\n",
    "\n",
    "# Load y data\n",
    "df_y = pd.read_csv('/kaggle/input/pred-broba-base-sklearn/df_y.csv')\n",
    "df_y_encoded = pd.read_csv('/kaggle/input/pred-broba-base-sklearn/df_y_encoded.csv')\n",
    "\n",
    "encoder_gesture = joblib.load('/kaggle/input/pred-broba-base-sklearn/encoder_gesture.pkl')\n",
    "\n",
    "preprocessor = joblib.load('/kaggle/input/pred-broba-base-sklearn/preprocessor.pkl')"
   ]
  },
  {
   "cell_type": "markdown",
   "id": "9678fcd6",
   "metadata": {
    "papermill": {
     "duration": 0.004695,
     "end_time": "2025-07-11T06:16:48.224731",
     "exception": false,
     "start_time": "2025-07-11T06:16:48.220036",
     "status": "completed"
    },
    "tags": []
   },
   "source": [
    "# 2. Train ensemble model"
   ]
  },
  {
   "cell_type": "code",
   "execution_count": 7,
   "id": "ef758fdc",
   "metadata": {
    "execution": {
     "iopub.execute_input": "2025-07-11T06:16:48.235880Z",
     "iopub.status.busy": "2025-07-11T06:16:48.235560Z",
     "iopub.status.idle": "2025-07-11T06:16:48.246385Z",
     "shell.execute_reply": "2025-07-11T06:16:48.245334Z"
    },
    "papermill": {
     "duration": 0.018405,
     "end_time": "2025-07-11T06:16:48.248036",
     "exception": false,
     "start_time": "2025-07-11T06:16:48.229631",
     "status": "completed"
    },
    "tags": []
   },
   "outputs": [],
   "source": [
    "from metric import score\n",
    "from sklearn.model_selection import cross_val_predict\n",
    "\n",
    "def pred_and_score(model, df_X, df_y_encoded, df_y):\n",
    "\n",
    "    # Cross val predict\n",
    "    y_proba = cross_val_predict(model,\n",
    "                               X=df_X, y=df_y_encoded.gesture,\n",
    "                               cv=CV, method=\"predict_proba\")\n",
    "    y_pred_indices = np.argmax(y_proba, axis=1)\n",
    "    y_pred = encoder_gesture.inverse_transform(y_pred_indices)\n",
    "\n",
    "    df_submission = pd.DataFrame({'sequence_id': df_y.sequence_id,\n",
    "                                  'gesture': y_pred})\n",
    "       \n",
    "    f1 = score(df_submission, df_y[['sequence_id', 'gesture']], 'sequence_id')\n",
    "\n",
    "    # Training final model\n",
    "    model.fit(X=df_X, y=df_y_encoded.gesture)\n",
    "\n",
    "    return model, y_proba, f1"
   ]
  },
  {
   "cell_type": "code",
   "execution_count": 8,
   "id": "a8b944bd",
   "metadata": {
    "execution": {
     "iopub.execute_input": "2025-07-11T06:16:48.260812Z",
     "iopub.status.busy": "2025-07-11T06:16:48.260476Z",
     "iopub.status.idle": "2025-07-11T06:16:58.425923Z",
     "shell.execute_reply": "2025-07-11T06:16:58.424640Z"
    },
    "papermill": {
     "duration": 10.173031,
     "end_time": "2025-07-11T06:16:58.427420",
     "exception": false,
     "start_time": "2025-07-11T06:16:48.254389",
     "status": "completed"
    },
    "tags": []
   },
   "outputs": [
    {
     "name": "stdout",
     "output_type": "stream",
     "text": [
      "F1 score on all data: 0.7959059009938888\n",
      "F1 score on IMU data: 0.7494822939645888\n"
     ]
    }
   ],
   "source": [
    "from sklearn.linear_model import LogisticRegression\n",
    "\n",
    "lr_clf = LogisticRegression(C=1)\n",
    "\n",
    "meta_model_all, y_pred, f1 = pred_and_score(lr_clf, pred_proba_all , df_y_encoded, df_y)\n",
    "print(f'F1 score on all data: {f1}')\n",
    "\n",
    "meta_model_imu, y_pred, f1 = pred_and_score(lr_clf, pred_proba_imu, df_y_encoded, df_y)\n",
    "print(f'F1 score on IMU data: {f1}')"
   ]
  },
  {
   "cell_type": "markdown",
   "id": "60b682aa",
   "metadata": {
    "papermill": {
     "duration": 0.008337,
     "end_time": "2025-07-11T06:16:58.443410",
     "exception": false,
     "start_time": "2025-07-11T06:16:58.435073",
     "status": "completed"
    },
    "tags": []
   },
   "source": [
    "# 3. Make predictions on test set"
   ]
  },
  {
   "cell_type": "code",
   "execution_count": 9,
   "id": "f28f6c5a",
   "metadata": {
    "execution": {
     "iopub.execute_input": "2025-07-11T06:16:58.462305Z",
     "iopub.status.busy": "2025-07-11T06:16:58.461952Z",
     "iopub.status.idle": "2025-07-11T06:16:58.470101Z",
     "shell.execute_reply": "2025-07-11T06:16:58.469344Z"
    },
    "papermill": {
     "duration": 0.019765,
     "end_time": "2025-07-11T06:16:58.471862",
     "exception": false,
     "start_time": "2025-07-11T06:16:58.452097",
     "status": "completed"
    },
    "tags": []
   },
   "outputs": [],
   "source": [
    "def predict_with_model(sequence, model,\n",
    "                       IMU_only=True):    \n",
    "\n",
    "    # Drop tof and thm columns if IMU only\n",
    "    if IMU_only:\n",
    "        thm_cols_to_remove = [col for col in sequence.columns if 'thm' in col]\n",
    "        tof_cols_to_remove = [col for col in sequence.columns if 'tof' in col]\n",
    "        cols_to_drop = thm_cols_to_remove + tof_cols_to_remove\n",
    "        sequence = sequence.drop(labels=cols_to_drop, axis=1)\n",
    "\n",
    "    # Predict with models\n",
    "    predictions = model.predict_proba(sequence)\n",
    "        \n",
    "    return predictions\n",
    "    "
   ]
  },
  {
   "cell_type": "code",
   "execution_count": 10,
   "id": "ee65d90e",
   "metadata": {
    "execution": {
     "iopub.execute_input": "2025-07-11T06:16:58.490519Z",
     "iopub.status.busy": "2025-07-11T06:16:58.490171Z",
     "iopub.status.idle": "2025-07-11T06:16:58.499285Z",
     "shell.execute_reply": "2025-07-11T06:16:58.498537Z"
    },
    "papermill": {
     "duration": 0.019922,
     "end_time": "2025-07-11T06:16:58.500968",
     "exception": false,
     "start_time": "2025-07-11T06:16:58.481046",
     "status": "completed"
    },
    "tags": []
   },
   "outputs": [],
   "source": [
    "def results_to_df(results, csv_name, save=False):\n",
    "    # Number of classes (assuming all models predict same classes)\n",
    "    n_classes = results[0]['y_pred'].shape[1]\n",
    "    \n",
    "    # Prepare dict to hold stacked prob arrays\n",
    "    stacked_probs = {}\n",
    "    \n",
    "    for res in results:\n",
    "        model_name = res[\"model\"]\n",
    "        proba = res[\"y_pred\"]  # shape: (n_samples, n_classes)\n",
    "        \n",
    "        # Create column names like 'SummaryClassifier_class0', 'SummaryClassifier_class1', ...\n",
    "        col_names = [f\"{model_name}_class{i}\" for i in range(n_classes)]\n",
    "        \n",
    "        # Store the probabilities with these columns\n",
    "        stacked_probs.update(dict(zip(col_names, proba.T)))\n",
    "    \n",
    "    # Now build the DataFrame; transpose stacked_probs so each key is a column with length n_samples\n",
    "    df_stack_features = pd.DataFrame({k: v for k, v in stacked_probs.items()})\n",
    "\n",
    "    if save:\n",
    "        df_stack_features.to_csv(csv_name)\n",
    "\n",
    "    return df_stack_features"
   ]
  },
  {
   "cell_type": "code",
   "execution_count": 11,
   "id": "7829e749",
   "metadata": {
    "execution": {
     "iopub.execute_input": "2025-07-11T06:16:58.519041Z",
     "iopub.status.busy": "2025-07-11T06:16:58.518712Z",
     "iopub.status.idle": "2025-07-11T06:16:58.532826Z",
     "shell.execute_reply": "2025-07-11T06:16:58.531920Z"
    },
    "papermill": {
     "duration": 0.02488,
     "end_time": "2025-07-11T06:16:58.534377",
     "exception": false,
     "start_time": "2025-07-11T06:16:58.509497",
     "status": "completed"
    },
    "tags": []
   },
   "outputs": [],
   "source": [
    "from statistics import mode\n",
    "\n",
    "def predict(sequence: pl.DataFrame, demographics: pl.DataFrame) -> str:\n",
    "\n",
    "    # Convert to pandas\n",
    "    sequence = sequence.to_pandas()\n",
    "    demographics = demographics.to_pandas()\n",
    "    \n",
    "    # Potential cols to drop\n",
    "    thm_cols_to_remove = [col for col in sequence.columns if 'thm' in col]\n",
    "    tof_cols_to_remove = [col for col in sequence.columns if 'tof' in col]\n",
    "    cols_to_drop = thm_cols_to_remove + tof_cols_to_remove\n",
    "\n",
    "    # Replace all -1 with NaN\n",
    "    sequence = sequence.replace(-1, np.nan)\n",
    "\n",
    "    # Data preprocessing\n",
    "    sequence_transformed = preprocessor.transform(sequence)\n",
    "    sequence_transformed.reset_index(drop=True, inplace=True)\n",
    "    \n",
    "    if sequence[cols_to_drop].isna().all().all() == True: # IMU only\n",
    "        \n",
    "        results = []\n",
    "        models = [model_ST_imu, model_KN_imu, model_RC_imu, model_CIF_imu]\n",
    "        \n",
    "        for model in models:\n",
    "            model_name = model.__class__.__name__\n",
    "            pred = predict_with_model(sequence_transformed, model, IMU_only=True)\n",
    "            \n",
    "            results.append({\n",
    "                \"model\": model_name,\n",
    "                \"y_pred\": pred,\n",
    "            })\n",
    "\n",
    "\n",
    "        df_meta_X = results_to_df(results, 'x')\n",
    "        \n",
    "        # Make prediction\n",
    "        predictions = meta_model_imu.predict(df_meta_X)    \n",
    "        final_pred = encoder_gesture.inverse_transform([mode(predictions)])\n",
    "        \n",
    "    else:\n",
    "        \n",
    "        results = []\n",
    "        models = [model_ST_all, model_KN_all, model_RC_all, model_CIF_all]\n",
    "        \n",
    "        for model in models:\n",
    "            model_name = model.__class__.__name__\n",
    "            pred = predict_with_model(sequence_transformed, model, IMU_only=False)\n",
    "\n",
    "            results.append({\n",
    "                \"model\": model_name,\n",
    "                \"y_pred\": pred,\n",
    "            })\n",
    "\n",
    "        df_meta_X = results_to_df(results, 'x')\n",
    "\n",
    "        # Make prediction\n",
    "        predictions = meta_model_all.predict(df_meta_X)    \n",
    "        final_pred = encoder_gesture.inverse_transform([mode(predictions)])\n",
    "\n",
    "    print(final_pred[0])\n",
    "    return final_pred[0]"
   ]
  },
  {
   "cell_type": "code",
   "execution_count": 12,
   "id": "5590ac13",
   "metadata": {
    "execution": {
     "iopub.execute_input": "2025-07-11T06:16:58.545729Z",
     "iopub.status.busy": "2025-07-11T06:16:58.545435Z",
     "iopub.status.idle": "2025-07-11T06:17:57.932782Z",
     "shell.execute_reply": "2025-07-11T06:17:57.931866Z"
    },
    "papermill": {
     "duration": 59.394642,
     "end_time": "2025-07-11T06:17:57.934202",
     "exception": false,
     "start_time": "2025-07-11T06:16:58.539560",
     "status": "completed"
    },
    "tags": []
   },
   "outputs": [
    {
     "name": "stdout",
     "output_type": "stream",
     "text": [
      "Cheek - pinch skin\n",
      "Eyelash - pull hair\n"
     ]
    }
   ],
   "source": [
    "inference_server = kaggle_evaluation.cmi_inference_server.CMIInferenceServer(predict)\n",
    "\n",
    "if os.getenv('KAGGLE_IS_COMPETITION_RERUN'):\n",
    "    inference_server.serve()\n",
    "else:\n",
    "    inference_server.run_local_gateway(\n",
    "        data_paths=(\n",
    "            '/kaggle/input/cmi-detect-behavior-with-sensor-data/test.csv',\n",
    "            '/kaggle/input/cmi-detect-behavior-with-sensor-data/test_demographics.csv',\n",
    "        )\n",
    "    )"
   ]
  },
  {
   "cell_type": "code",
   "execution_count": null,
   "id": "78e34b2c",
   "metadata": {
    "papermill": {
     "duration": 0.004968,
     "end_time": "2025-07-11T06:17:57.944659",
     "exception": false,
     "start_time": "2025-07-11T06:17:57.939691",
     "status": "completed"
    },
    "tags": []
   },
   "outputs": [],
   "source": []
  }
 ],
 "metadata": {
  "kaggle": {
   "accelerator": "none",
   "dataSources": [
    {
     "databundleVersionId": 12518947,
     "sourceId": 102335,
     "sourceType": "competition"
    },
    {
     "datasetId": 7838751,
     "sourceId": 12437440,
     "sourceType": "datasetVersion"
    },
    {
     "sourceId": 242561727,
     "sourceType": "kernelVersion"
    },
    {
     "sourceId": 248455010,
     "sourceType": "kernelVersion"
    },
    {
     "sourceId": 249430767,
     "sourceType": "kernelVersion"
    }
   ],
   "dockerImageVersionId": 31040,
   "isGpuEnabled": false,
   "isInternetEnabled": false,
   "language": "python",
   "sourceType": "notebook"
  },
  "kernelspec": {
   "display_name": "Python 3",
   "language": "python",
   "name": "python3"
  },
  "language_info": {
   "codemirror_mode": {
    "name": "ipython",
    "version": 3
   },
   "file_extension": ".py",
   "mimetype": "text/x-python",
   "name": "python",
   "nbconvert_exporter": "python",
   "pygments_lexer": "ipython3",
   "version": "3.11.11"
  },
  "papermill": {
   "default_parameters": {},
   "duration": 143.716382,
   "end_time": "2025-07-11T06:18:01.554910",
   "environment_variables": {},
   "exception": null,
   "input_path": "__notebook__.ipynb",
   "output_path": "__notebook__.ipynb",
   "parameters": {},
   "start_time": "2025-07-11T06:15:37.838528",
   "version": "2.6.0"
  }
 },
 "nbformat": 4,
 "nbformat_minor": 5
}
